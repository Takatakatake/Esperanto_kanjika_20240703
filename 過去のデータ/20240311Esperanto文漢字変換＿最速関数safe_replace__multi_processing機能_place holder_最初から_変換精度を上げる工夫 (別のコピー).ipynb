{
 "cells": [
  {
   "cell_type": "code",
   "execution_count": 1,
   "metadata": {},
   "outputs": [],
   "source": [
    "##世界语文本字符格式转换函数(エスペラント文の文字形式の変換関数)\n",
    "esperanto_to_x = { \"ĉ\": \"cx\", \"ĝ\": \"gx\", \"ĥ\": \"hx\", \"ĵ\": \"jx\", \"ŝ\": \"sx\", \"ŭ\": \"ux\",\n",
    "                   \"Ĉ\": \"Cx\", \"Ĝ\": \"Gx\", \"Ĥ\": \"Hx\", \"Ĵ\": \"Jx\", \"Ŝ\": \"Sx\", \"Ŭ\": \"Ux\",\n",
    "                   \"c^\": \"cx\", \"g^\": \"gx\", \"h^\": \"hx\", \"j^\": \"jx\", \"s^\": \"sx\", \"u^\": \"ux\",\n",
    "                    \"C^\": \"Cx\", \"G^\": \"Gx\", \"H^\": \"Hx\", \"J^\": \"Jx\", \"S^\": \"Sx\", \"U^\": \"Ux\"}\n",
    "x_to_jijofu={'cx': 'ĉ', 'gx': 'ĝ', 'hx': 'ĥ', 'jx': 'ĵ', 'sx': 'ŝ', 'ux': 'ŭ', 'Cx': 'Ĉ',\n",
    "             'Gx': 'Ĝ', 'Hx': 'Ĥ', 'Jx': 'Ĵ', 'Sx': 'Ŝ', 'Ux': 'Ŭ'}\n",
    "x_to_hat={'cx': 'c^', 'gx': 'g^', 'hx': 'h^', 'jx': 'j^', 'sx': 's^', 'ux': 'u^', 'Cx': 'C^',\n",
    "          'Gx': 'G^', 'Hx': 'H^', 'Jx': 'J^', 'Sx': 'S^', 'Ux': 'U^'}\n",
    "\n",
    "def replace_esperanto_chars(text,letter_dictionary):\n",
    "    for esperanto_char, x_char in letter_dictionary.items():\n",
    "        text = text.replace(esperanto_char, x_char)\n",
    "    return text\n",
    "\n",
    "# 用于测试的世界语文本(テスト用のエスペラント文)\n",
    "text = \"Ĝis revido! Mia nomo estas Ĵoĥano. Ĉu vi ŝatas ĥorojn? -Ne, mi s^tas felic^on. C^ S^ H^ c^ s^ h^  Ĉ Ĝ  Gxis revido! Mia nomo estas Jxohxano. Cxu vi sxatas hxorojn? -Ne, mi sxtas felicxon. Cx Sx Hx cx sx hx  Cx Gx\"\n",
    "\n",
    "## 世界语文本字符格式的转换(エスペラント文の文字形式の変換)\n",
    "# replaced_text = replace_esperanto_chars(text,esperanto_to_x)\n",
    "# replaced_text =replace_esperanto_chars(text,x_to_jijofu)\n",
    "replaced_text =replace_esperanto_chars(text,x_to_hat)\n",
    "\n",
    "# print(\"原文本(元のテキスト):\", text)\n",
    "# print(\"替换后的文本(置換後のテキスト):\", replaced_text)"
   ]
  },
  {
   "cell_type": "code",
   "execution_count": 2,
   "metadata": {},
   "outputs": [],
   "source": [
    "# with open(\"No.10000_500000.txt\", 'w', encoding='utf-8') as file:#在汉字转换时使用的'占位符'文件创建(漢字変換時に用いる\"place holder\"ファイルの作成)\n",
    "#     for ii in range(490001):\n",
    "#         file.write(f'${ii+10000}$\\n')\n",
    "with open('No.10000_500000.txt', 'r') as file:##在汉字转换时预先加载用作\"占位符\"的文件。(漢字変換時に用いる\"place holder\"ファイルを予め読み込んでおく。)\n",
    "    loaded_strings = [line.strip() for line in file]\n",
    "# print(loaded_strings[:10])# 显示加载的字符串的一部分(読み込んだ文字列の一部を表示)"
   ]
  },
  {
   "cell_type": "code",
   "execution_count": 3,
   "metadata": {},
   "outputs": [],
   "source": [
    "hanzi_level=3##汉字转换的级别设置。'lv1'大约有650个世界语词根会被转换，'lv2'大约有1650个，'lv3'则大约有2650个。\n",
    "##漢字変換のレベル設定。　'lv1'では650個程度のエスペラント語根が、'lv2'では1650個程度が、'lv3'では2650個程度が、漢字変換される。\n",
    "\n",
    "# hanzi_level1=['lv1','形1','形2','形3','形4','形5','数1','数4','接1','前1','代1','頭1','動2','動3','動4','動5','尾1','副1','副2','名2','名3','名4','名5']\n",
    "# hanzi_level2=['lv1','lv2','間7','形1','形2','形3','形4','形5','形6','形7','形8','数1','数4','接1','接8','前1','前7','代1','頭1','動2','動3','動4','動5','動6','動7','動8','尾1','副1','副2','副6','副7','副8','名2','名3','名4','名5','名6','名7','名8']\n",
    "# hanzi_level3=['lv1','lv2','lv3','間7','間o','擬f','形1','形2','形3','形4','形5','形6','形7','形8','形9','形f','形o','数1','数4','接1','接8','前1','前7','代1','頭1','頭9','動2','動3','動4','動5','動6','動7','動8','動9','動f','動n','動o','尾1','尾9','副1','副2','副6','副7','副8','副9','副b','副f','名2','名3','名4','名5','名6','名7','名8','名9','名b','名f','名i','名n','名o','略f']\n",
    "Hanzi_Level=[['lv1','形1','形2','形3','形4','形5','数1','数4','接1','前1','代1','頭1','動2','動3','動4','動5','尾1','副1','副2','名2','名3','名4','名5'],['lv1','lv2','間7','形1','形2','形3','形4','形5','形6','形7','形8','数1','数4','接1','接8','前1','前7','代1','頭1','動2','動3','動4','動5','動6','動7','動8','尾1','副1','副2','副6','副7','副8','名2','名3','名4','名5','名6','名7','名8'],['lv1','lv2','lv3','間7','間o','擬f','形1','形2','形3','形4','形5','形6','形7','形8','形9','形f','形o','数1','数4','接1','接8','前1','前7','代1','頭1','頭9','動2','動3','動4','動5','動6','動7','動8','動9','動f','動n','動o','尾1','尾9','副1','副2','副6','副7','副8','副9','副b','副f','名2','名3','名4','名5','名6','名7','名8','名9','名b','名f','名i','名n','名o','略f']]\n",
    "HANZILEVEL=Hanzi_Level[hanzi_level-1]"
   ]
  },
  {
   "cell_type": "code",
   "execution_count": 4,
   "metadata": {},
   "outputs": [
    {
     "data": {
      "text/plain": [
       "8589"
      ]
     },
     "execution_count": 4,
     "metadata": {},
     "output_type": "execute_result"
    }
   ],
   "source": [
    "\n",
    "replacements_dict = {}##将世界语词根的汉字替换列表以字典数组形式创建，因为这样可以容易地添加词根，所以是个不错的方法。(エスペラント語根の漢字置換リストは辞書式配列で作ると、語根の追加が容易にできるので良い。)\n",
    "with open(\"全語根＿約11200個.txt\", 'r', encoding='utf-8') as file:\n",
    "    roots = file.readlines()\n",
    "    for root in roots:\n",
    "        root = root.strip()\n",
    "        if len(root)>4:###只有5个字符以上的世界语词根。这是一个调整点。(5文字以上のエスペラント語根のみ。　調節ポイントである。)\n",
    "            replacements_dict[root]=[root,len(root)*10000]##为每个世界语词根设置汉字替换后的字符串及其替换顺序。替换顺序的数字越大，越早替换。当然，内容经常会后续更改或更新。\n",
    "            ##各エスペラント語根に対する漢字置換後の文字列とその置換順序を設定。　置換順序の数字が大きいほど、先に置換される。 もちろん、往々にして内容は後で変更・更新される。\n",
    "len(replacements_dict)"
   ]
  },
  {
   "cell_type": "code",
   "execution_count": 5,
   "metadata": {},
   "outputs": [],
   "source": [
    "\n",
    "##读取世界语词根的汉字化列表，并更新上述创建的世界语所有词根的字典数组。(エスペラント語根の漢字化リストを読み込み、上記で作成したエスペラント全語根の辞書式配列を更新する。)\n",
    "with open('世界语汉字表格_20240312.csv', 'r') as file:\n",
    "    for line in file:\n",
    "        line = line.strip()\n",
    "        j = line.split(',')\n",
    "        if len(j)==4:\n",
    "            word,level,hanzi=j[0],j[1],j[2]\n",
    "            if (\"#\" in word) or word=='':\n",
    "                continue\n",
    "            elif hanzi=='' or (level not in HANZILEVEL):\n",
    "                replacements_dict[word]=[word,len(word)*10000]##为了提高汉字替换的准确性，这里也可以排除4个字符以下的世界语词根。\n",
    "                ##漢字置換の精度を高めるため、ここで4文字以下のエスペラント語根を除く方法もありえる。\n",
    "            elif any(keyword in level for keyword in ['形', '名', '動', '副']):\n",
    "                replacements_dict[word]=[hanzi+'('+word+')',len(word)*10000+5000]##为了优先于不直接转换的世界语词根进行汉字替换，将替换顺序加+5000~(+4600,+4800,+5000)。\n",
    "                ##実際に漢字置換するエスペラント語根をそのまま変換しないエスペラント語根より優先するため、置換順序を+5000~(+4600,+4800,+5000)する。\n",
    "            elif any(keyword in level for keyword in ['尾','数','前']):\n",
    "                replacements_dict[word]=[hanzi+'('+word+')',len(word)*10000+4800]##为了下述的\"提高汉字替换准确性的工夫\"，根据世界语词根的词性，稍微调整替换顺序。(後述の\"漢字置換の精度を高める工夫\"のために、エスペラント語根の品詞によって、置換順序を多少前後させる。)\n",
    "                ##+5000表示强烈应用\"提高汉字替换准确性的工夫\"，+4800表示弱化应用，+4600表示不应用。\n",
    "                ##+5000は\"漢字置換の精度を高める工夫\"を強く適用、+4800は\"漢字置換の精度を高める工夫\"を弱く適用、+4600は\"漢字置換の精度を高める工夫\"を適用しない。\n",
    "            elif word=='oni' or word=='sxi' or word=='gxi':##在代词中，只有这三个是特别的，为了弱化应用下述的\"提高汉字替换准确性的工夫\"，加4800。(代名詞の中でこの3つだけは特別で、後述の\"漢字置換の精度を高める工夫\"を弱く適用するため、+4800する。)\n",
    "                replacements_dict[word]=[hanzi+'('+word+')',len(word)*10000+4800]\n",
    "            else:\n",
    "                replacements_dict[word]=[hanzi+'('+word+')',len(word)*10000+4600]##其他进行汉字替换的世界语词根不应用\"提高汉字替换准确性的工夫\"，因此加4600。(その他の漢字置換するエスペラント語根は、\"漢字置換の精度を高める工夫\"を適用しないので、+4600する。)"
   ]
  },
  {
   "cell_type": "code",
   "execution_count": 6,
   "metadata": {},
   "outputs": [],
   "source": [
    "##以下では、ユーザー設定ファイル(後から加える語根リスト(優先順位も決められる).txt)の読み込みを行っている。ユーザーは既存のファイル(エスペラント語根の漢字化リスト)を直接変更することなく、\n",
    "##\"'エスペラント語根'、'エスペラント語根のレベル'、'置換漢字'、'置換順序'\"を新たに設定することができ、なおかつその設定は既存のファイル(エスペラント語根の漢字化リスト)よりも優先される。\n",
    "##在下文中，正在进行用户设置文件（後から加える語根リスト(優先順位も決められる).txt）的读取。\n",
    "##用户无需直接修改现有文件（世界语词根的汉字化列表），即可新设定“'世界语词根'、'世界语词根的级别'、'替换汉字'、'替换顺序'”，而且这些设置将优先于现有文件（世界语词根的汉字化列表）。\n",
    "\n",
    "with open('後から加える語根リスト(優先順位も決められる).txt', 'r') as file:\n",
    "    for line in file:\n",
    "        line = line.strip()\n",
    "        j = line.split(',')\n",
    "        if len(j)==4:\n",
    "            word,level,hanzi,priority=j[0],j[1],j[2],j[3]\n",
    "            if level in HANZILEVEL:\n",
    "                if word==hanzi:\n",
    "                    replacements_dict[word]=[hanzi,int(priority)]#priority应改为int类型。(priorityはint型に変えておく。)\n",
    "                else:\n",
    "                    replacements_dict[word]=[hanzi+'('+word+')',int(priority)]"
   ]
  },
  {
   "cell_type": "code",
   "execution_count": 7,
   "metadata": {},
   "outputs": [],
   "source": [
    "#为了提高汉字替换的准确性，在“弱应用”中，将'a,i,u,e,o,j,n'添加到词尾，在“强应用”中，则在词根的开头和结尾添加前缀和后缀，并将这些形式新加入到世界语词根的汉字替换列表中。\n",
    "#\"漢字置換の精度を高める工夫\"の'弱い適用'では語尾に'a,i,u,e,o,j,n'を、'強い適用'では語頭と語尾に接頭辞と接尾辞を追加した形をエスペラント語根の漢字置換リストに新たに追加する。\n",
    "# prefix_2l={'bo':'bo', 'ek':'ek', 'ge':'ge', 're':'re'}\n",
    "# prefix_3l={'cxef':'cxef', 'dis':'dis', 'eks':'eks', 'for':'for', 'mal':'mal', 'post':'post'}\n",
    "# suffix_2l={'as':'as', 'is':'is', 'os':'os', 'us':'us', 'um':'um','at':'at','it':'it','ot':'ot', 'ad':'ad','an':'an','ar':'ar','ec':'ec', 'eg':'eg',\t'ej':'ej', 'em':'em', 'er':'er', 'et':'et',\t'id':'id', 'ig':'ig', 'il':'il', 'in':'in', 'on':'on', 'op':'op', 'uj':'uj', 'ul':'ul'}\n",
    "# suffix_3l={'acx':'acx',\t'ajx':'ajx'\t, 'ebl':'ebl',\t'end':'end','estr':'estr','igx':'igx','ind':'ind','ing':'ing','ism':'ism','ist':'ist','obl':'obl','ant':'ant','int':'int','ont':'ont'}\n",
    "# prefix_2l_2={'bo': 'bo', 'ek': 'ek', 'ge': 'ge', 're': 're'}\n",
    "# prefix_3l_2={'cxef': '首(cxef)','dis': '散(dis)','eks': '前(eks)','for': '离(for)','mal': '非(mal)','post': '后(post)'}\n",
    "# suffix_2l_2={'as':'as', 'is':'is', 'os':'os', 'us':'us', 'um':'um','at':'at','it':'it','ot':'ot', 'ad':'ad','an':'an','ar':'ar','ec':'ec', 'eg':'eg',\t'ej':'ej', 'em':'em', 'er':'er', 'et':'et',\t'id':'id', 'ig':'ig', 'il':'il', 'in':'in', 'on':'on', 'op':'op', 'uj':'uj', 'ul':'ul'}\n",
    "# suffix_3l_2={'acx': '劣(acx)','ajx': '物(ajx)','ebl': '能(ebl)','end': '必(end)','estr': '长(estr)','igx': '成(igx)','ind': '价(ind)','ing': '壳(ing)','ism': '义(ism)','ist': '家(ist)','obl': '倍(obl)','ant': 'ant','int': 'int','ont': 'ont'}\n",
    "# suffix_3l_2={}\n",
    "# for d1,d2 in suffix_3l.items():\n",
    "#     suffix_3l_2[d1]=safe_replace(d2, replacements)\n",
    "# suffix_3l_2\n",
    "# prefix_3l_2={}\n",
    "# for d1,d2 in prefix_3l.items():\n",
    "#     prefix_3l_2[d1]=safe_replace(d2, replacements)\n",
    "#prefix_3l_2"
   ]
  },
  {
   "cell_type": "code",
   "execution_count": 8,
   "metadata": {},
   "outputs": [],
   "source": [
    "prefix_2l_2={'ek': 'ek', 're': 're'}\n",
    "prefix_3l_2={'dis': '散(dis)','for': '离(for)','mal': '非(mal)'}\n",
    "suffix_2l_2={'as':'as', 'is':'is', 'os':'os', 'us':'us', 'um':'um','at':'at','it':'it','ot':'ot', 'ad':'ad','an':'an','ar':'ar','ec':'ec', 'eg':'eg',\t'ej':'ej', 'em':'em', 'er':'er', 'et':'et', 'ig':'ig', 'il':'il', 'in':'in', 'uj':'uj', 'ul':'ul'}\n",
    "suffix_3l_2={'acx': '劣(acx)','ajx': '物(ajx)','ebl': '能(ebl)','end': '必(end)','estr': '长(estr)','igx': '成(igx)','ind': '价(ind)','ism': '义(ism)','ist': '家(ist)','ant': 'ant','int': 'int','ont': 'ont'}"
   ]
  },
  {
   "cell_type": "code",
   "execution_count": 9,
   "metadata": {},
   "outputs": [],
   "source": [
    "###最重要的巧思点\n",
    "###一番の工夫ポイント\n",
    "\n",
    "root_de_fusiyo=['min','amas','mas','vin','boj','tas','lin']##几乎仅用于词根本身，容易导致误转换的世界语词根列表。(語根だけで用いることが殆どなく、誤変換の要因になりやすいエスペラント語根のリスト。)\n",
    "pre_replacements=[]\n",
    "for old,new in replacements_dict.items():\n",
    "    if old not in root_de_fusiyo:\n",
    "        pre_replacements.append((old,new[0],new[1]))\n",
    "    if (24500 <= new[1] <= 24700) or (34500 <= new[1] <= 34700) or (44500 <= new[1] <= 44700):\n",
    "        continue\n",
    "    if (24700 <= new[1] <= 24900) or (34700 <= new[1] <= 34900) or (44700 <= new[1] <= 44900) or (54700 <= new[1] <= 54900):##“提高汉字替换准确性的技巧”之“弱应用”：将'a,i,u,e,o,j,n'添加至词尾的形式新加入到世界语词根的汉字替换列表中。\n",
    "        #\"漢字置換の精度を高める工夫\"の'弱い適用':語尾に'a,i,u,e,o,j,n'を追加した形をエスペラント語根の漢字置換リストに新たに追加する。\n",
    "        for aiueo in list(\"aiueojn\"):\n",
    "            pre_replacements.append((old+aiueo,new[0]+aiueo,new[1]+10000))\n",
    "    if (24900 <= new[1] <= 25100) or (34900 <= new[1] <= 35100) or (44900 <= new[1] <= 45100) or (54900 <= new[1] <= 55100):##“提高汉字替换准确性的技巧”之“强应用”：将前缀和后缀添加至词头和词尾的形式新加入到世界语词根的汉字替换列表中。\n",
    "        #\"漢字置換の精度を高める工夫\"の'強い適用':語頭と語尾に接頭辞と接尾辞を追加した形をエスペラント語根の漢字置換リストに新たに追加する。\n",
    "        for d1,d2 in suffix_3l_2.items():\n",
    "            pre_replacements.append((old+d1,new[0]+d2,new[1]+20000))#本来是+30000的，但暂时设为+20000。(本来は+30000だが、+20000にしておく。)\n",
    "        for d1,d2 in prefix_3l_2.items():\n",
    "            pre_replacements.append((d1+old,d2+new[0],new[1]+20000))#本来是+30000的，但暂时设为+20000。(本来は+30000だが、+20000にしておく。)           \n",
    "        for d1,d2 in suffix_2l_2.items():\n",
    "            pre_replacements.append((old+d1,new[0]+d2,new[1]+20000))\n",
    "        for d1,d2 in prefix_2l_2.items():\n",
    "            pre_replacements.append((d1+old,d2+new[0],new[1]+20000))       \n",
    "        for aiueo in list(\"aiueojn\"):\n",
    "            pre_replacements.append((old+aiueo,new[0]+aiueo,new[1]+10000))\n",
    "\n",
    "                "
   ]
  },
  {
   "cell_type": "code",
   "execution_count": 10,
   "metadata": {},
   "outputs": [],
   "source": [
    "##对应'大写字母'、'小写字母'、'句首仅大写字母'的情况。('大文字'、'小文字'、'文頭だけ大文字'のケースに対応。)\n",
    "pre_replacements2=[]\n",
    "for old,new,priority in pre_replacements:\n",
    "    pre_replacements2.append((old,new,priority))\n",
    "    pre_replacements2.append((old.upper(),new.upper(),priority))\n",
    "    pre_replacements2.append((old.capitalize(),new.capitalize(),priority))"
   ]
  },
  {
   "cell_type": "code",
   "execution_count": 11,
   "metadata": {},
   "outputs": [],
   "source": [
    "pre_replacements3 = sorted(pre_replacements2, key=lambda x: x[2], reverse=True)##按照替换顺序数字的大小顺序进行排序。(置換順序の数字の大きさ順にソート。)"
   ]
  },
  {
   "cell_type": "code",
   "execution_count": 12,
   "metadata": {},
   "outputs": [],
   "source": [
    "#确认世界语词根的汉字替换列表内容。按照'世界语词根'、'替换汉字'、'替换顺序'的顺序排列。\n",
    "#エスペラント語根の漢字置換リストの内容を確認。'エスペラント語根'、'置換漢字'、'置換順序'の順に並べられている。\n",
    "with open(\"pre_replacements3.txt\", 'w', encoding='utf-8') as file:\n",
    "    for old,new,priority in pre_replacements3:\n",
    "        file.write(f'{old},{new},{priority}\\n')"
   ]
  },
  {
   "cell_type": "code",
   "execution_count": 13,
   "metadata": {},
   "outputs": [],
   "source": [
    "##按照'世界语词根'、'替换汉字'、'占位符'的顺序排列，创建用于最终替换的\"replacements\"列表。\n",
    "##'エスペラント語根'、'置換漢字'、'place holder'の順に並べ、最終的な置換に用いる\"replacements\"リストを作成。\n",
    "replacements=[]\n",
    "for kk in range(len(pre_replacements3)):\n",
    "    replacements.append([pre_replacements3[kk][0],pre_replacements3[kk][1],loaded_strings[kk]])\n",
    "    "
   ]
  },
  {
   "cell_type": "code",
   "execution_count": 14,
   "metadata": {},
   "outputs": [],
   "source": [
    "# 确认\"replacements\"列表的内容。(\"replacements\"リストの内容を確認)\n",
    "# with open(\"replacements_list.txt\", 'w', encoding='utf-8') as file:\n",
    "#     for old,new,priority in replacements:\n",
    "#         file.write(f'{old},{new}\\n')\n",
    "#len(replacements)##查看用于最终替换的\"replacements\"列表的长度。(最終的な置換に用いる\"replacements\"リストの長さ。)"
   ]
  },
  {
   "cell_type": "code",
   "execution_count": 15,
   "metadata": {},
   "outputs": [],
   "source": [
    "##用于替换的函数。尝试了正则表达式、C++等多种形式的替换，但使用Python中的'占位符'进行替换，处理速度最快。（而且非常简单易懂。）\n",
    "##置換に用いる関数。正規表現、C++など様々な形式の置換を試したが、pythonで'place holder'を用いる形式の置換が、最も処理が高速であった。(しかも大変シンプルでわかりやすい。)\n",
    "def safe_replace(text, replacements):\n",
    "    valid_replacements = {}\n",
    "    # 置换对象(old)暂时替换为'占位符'  (置換対象(old)を'place holder'に一時的に置換)\n",
    "    for old, new, placeholder in replacements:\n",
    "        if old in text:\n",
    "            text = text.replace(old, placeholder)\n",
    "            valid_replacements[placeholder] = new#记录需要稍后重新替换为替换后字符串(new)的'占位符'到字典(valid_replacements)中。\n",
    "            # 後で置換後の文字列(new)に置換し直す必要がある'place holder'を辞書(valid_replacements)に記録しておく。\n",
    "    # 将'占位符'替换为替换后的字符串(new)。  ('place holder'を置換後の文字列(new)に置換)\n",
    "    for placeholder, new in valid_replacements.items():\n",
    "        text = text.replace(placeholder, new)\n",
    "    return text\n",
    "\n",
    "\n",
    "\n",
    "# 测试数据(テストデータ)\n",
    "text = \"\"\"Post-diplomaj studoj pri inter-lingvistiko: pinto kaj fino\n",
    "\n",
    "Interlingvistiko estas la studo de internacia komunikado kaj homaj rilatoj interalie pere de plan-lingvoj kiel Esperanto.\n",
    "\n",
    "La tri-jaraj post-diplomaj Interlingvistikaj Studoj (IS) – kiuj funkcias ekde 1998 en la pola Universitato Adam Mickiewicz (UAM) en Poznano – komencis sian lastan studjaron en septembro 2023. La internacia kursaro okazas sub la gvidado de prof. d-ro Ilona Koutny, kun la kontribuo de fame konataj esperantologoj el pluraj landoj. \n",
    "\n",
    "La tria jaro de la studoj ebligas specialiĝojn. Ĉi-foje eblis elekti inter Tradukado, Interlingvistiko kaj Esperanto-movado, aŭ Instruista trejnado. \n",
    "\n",
    "Krom la specialiĝoj, la studentoj daŭre partoprenas komunajn kursojn kiel grupo. Inter tiuj kursoj estis la stud-objektoj Nuntempa Esperanto-literaturo kaj Nuntempaj problemoj de la Esperanto-movado. Tiun lastan gvidis Mark Fettes, kiu estis prezidanto de Universala Esperanto-Asocio (UEA) de 2013 ĝis 2019. Surbaze de siaj propraj spertoj, li gvidis la studentojn en interesaj diskutoj.\n",
    "\n",
    "UAM alte taksas, ke la Interlingvistikaj Studoj kontribuas al la internaciigo de la universitato. Efektive, krom el Pollando, la studentoj devenas de 11 landoj: Brazilo, Britio, Ĉeĥio, Ĉinio, Francio, Indonezio, Italio, Koreio, Kroatio, Rumanio, Vjetnamio. \n",
    "\n",
    "En tiu ĉi jaro la studentoj verkas ankaŭ diplom-laboraĵon. Siajn rezultojn ili prezentos en septembro 2024. La plej bonaj laboraĵoj estas regule eldonataj, ekzemple en la lingvistika revuo Investigationes Lingvisticae de UAM.\n",
    "\n",
    "Post 25 jaroj, tiu ĉi estas la lasta tri-jara periodo de la studoj. Kvazaŭ por festi la 25-jariĝon, en la pasinta studjaro komenciĝis la magistraj studoj pri interlingvistiko, kadre de la studfako Lingvistiko kaj inform-mastrumado. La studoj bone progresas kun dek studentoj, el kiuj sep venas el la ĉina Universitato en Zaozhuang, kie funkcias Esperanto-fako.\n",
    "\n",
    "En 2024 la studentoj de ambaŭ programoj finos siajn studojn, kaj tiel finiĝos la historio de interlingvistiko en UAM. Kiel lasta pinta evento okazos labor-sesio pri interlingvistiko kadre de la fama internacia Lingvista Kongreso, kiu ĉi-jare okazos en Poznano, en septembro 2024.\n",
    "\n",
    "Roksana estis elstara gastigantino kaj iun vesperon ŝi rakontis al mi la sekvan rakonton.  Samoso estis princ-lando interne de la Turka Imperio. Iam la sultano en Istanbulo havis fortan doloron ĉe la oreloj, kiun la istanbulaj kuracistoj ne sukcesis kuraci. Iu informis la sultanon, ke en la princlando Samoso estas fama kuracisto. La sultano sendis ŝipon por alvenigi la kuraciston Stamatiadis, kun la averto, ke li estos kruele punita, se io misfunkcios. Sed post unu semajno la oreloj de la sultano ne plu doloris. Kiel en fabeloj la sultano diris al Stamatiadis: “Dankon pro la kuracado. Petu ion ajn, kaj mi donos tion al vi.” Stamatiadis diris: “Mi volas, ke en la princlando Samoso oni instruu Esperanton en ĉiuj lernejoj.” La sultano turnis sin al iu ministro kaj diris: \"Tiel estu!\"\n",
    "\n",
    "La ministro pretigis leteron de la sultano al la princo de Samoso kun la ordono, ke oni instruu Esperanton en la lernejoj, kaj la ŝipo reportis Stamatiadis kaj la leteron al Samoso. La princo ne havis elekton: li nepre devis ordoni al la lernejoj (tiam estis eble du-tri en tiu insulo) instrui Esperanton. Sed la pastroj kaj la publiko estis tre malkontentaj, ĉar Stamatiadis estis konata socialisto, kaj oni konsideris lin malamiko de Dio kaj de la kristana religio. La pastroj predikis al la popolo, ke oni devas malhelpi tiel teruran aferon pro kulpo de la malforta princo, kiu obeis ordonon de la islama imperiestro instrui lingvon de la diablo. Ili tiel efike predikis, ke la popolo bruligis la lernejojn. Tiam la princo ĉesigis la instruadon de Esperanto, kaj Stamatiadis mem transloĝiĝis al Istanbulo kaj poste al Ateno. La tuta afero okazis ĉirkaŭ la jaro 1910.\n",
    "\n",
    "Tiu estas la rakonto, kiun mi aŭdis de Roksana Stamatiadis, (aŭ \"s-ino Manusu\" laŭ la nomo de ŝia edzo). Naskiĝinte en 1900, ŝi poste mortis en 1981.\n",
    "\n",
    "Sed laŭ esploroj el aliaj fontoj la realo estis iom malsama kaj malpli romantika. Stamatiadis estis grava kuracisto en Samoso kaj aktiva esperantisto. Li fondis Esperanto-grupon en Samoso ĉirkaŭ la jaro 1905, eldonis gazeton, kaj konvinkis la princon fari dekreton pri lernado de Esperanto en la lernejoj de Samoso. La lernado de Esperanto ĉesis kiam la princo estis mortigita kaj Stamatiadis estis ekzilita al Istanbulo pro neklaraj politikaj kialoj. \n",
    "\n",
    "\"\"\""
   ]
  },
  {
   "cell_type": "code",
   "execution_count": 16,
   "metadata": {},
   "outputs": [],
   "source": [
    "##为了多进程处理的函数群。根据行数将文本等分为设置的进程数(num_processes)，在各个进程中并行执行替换处理后，再次合并分割的文本。\n",
    "## multiprocessingのための関数群　テキストを行数によって設定プロセス数(num_processes)に等分割して、それぞれのプロセスで並列に置換処理を実行してから、再度分割したテキストを結合する。\n",
    "\n",
    "import multiprocessing\n",
    "def process_segment(lines, replacements):\n",
    "    #字符串列表合并后执行替换处理。lines中存储的是未包含\\n的字符串群。\n",
    "    # 文字列のリストを結合してから置換処理を実行 linesには\\nが含まれていない状態の文字列群が格納されている。\n",
    "    segment = '\\n'.join(lines)\n",
    "    segment = safe_replace(segment, replacements)##这里执行safe_replace函数(ここでsafe_replace関数の実行)\n",
    "    return segment\n",
    "\n",
    "def parallel_process(text, num_processes,replacements):\n",
    "    # 将文本按行分割(テキストを行で分割)\n",
    "    lines = text.split('\\n')\n",
    "    num_lines = len(lines)\n",
    "    lines_per_process = num_lines // num_processes\n",
    "\n",
    "    # 确定分配给每个进程的行列表(各プロセスに割り当てる行のリストを決定)\n",
    "    ranges = [(i * lines_per_process, (i + 1) * lines_per_process) for i in range(num_processes)]\n",
    "    ranges[-1] = (ranges[-1][0], num_lines)  # 最后一个进程处理剩下的所有内容(最後のプロセスが残り全てを処理)\n",
    "\n",
    "    with multiprocessing.Pool(processes=num_processes) as pool:\n",
    "        # 执行并行处理(並列処理を実行)\n",
    "        results = pool.starmap(process_segment, [(lines[start:end], replacements) for start, end in ranges])\n",
    "\n",
    "    # 合并结果(結果を結合)\n",
    "    return '\\n'.join(result for result in results)\n"
   ]
  },
  {
   "cell_type": "code",
   "execution_count": 17,
   "metadata": {},
   "outputs": [
    {
     "data": {
      "text/plain": [
       "'后(post)-diplomaj 学(stud)oj 关(pri) 间(inter)-lingvistiko: 尖(pint)o kaj 结束(fin)o\\n\\nInterlingvistiko 是(est)as la 学(stud)o de 内(intern)acia 沟通(komunik)ado kaj 人(hom)aj 关系(rilat)oj 间(inter)alie 毁(pere) de 计划(plan)-语(lingv)oj 何方(kiel) 语(esperant)o.\\n\\nLa tri-年(jar)aj 后(post)-diplomaj Interlingvistikaj 学(stud)oj (IS) – 何u(kiu)j 功能(funkci)as ekde 1998 en la pola 大学(universitat)o Adam Mic何e(kie)wicz (UAM) en 姿(poz)nano – 开始(komenc)is sian 末(last)an 学(stud)jaron en 九月(septembr)o 2023. La 内(intern)acia 课(kurs)aro 发生(okaz)as 下(sub) la 导(gvid)ado de prof. d-ro Ilona Koutny, 共(kun) la 贡献(kontribu)o de 名(fam)e 识(kon)ataj esperantologoj el 多(plur)aj 土(land)oj. \\n\\nLa tria 年(jar)o de la 学(stud)oj eb联(lig)as 特(special)i快(gxoj)n. Cxi-次(foj)e 能(ebl)is 选择(elekt)i 间(inter) 翻译(traduk)ado, Interlingvistiko kaj 语(esperant)o-动(mov)ado, aux 教(instru)家(ist)a 训练(trejn)ado. \\n\\n外(krom) la 特(special)i快(gxoj), la 学生(student)oj 持(dauxr)e 部分(part)o拿(pren)as 共(komun)ajn 课(kurs)ojn 何方(kiel) 群(grup)o. 间(inter) tiuj 课(kurs)oj 是(est)is la 学(stud)-物(objekt)oj 今(nun)时间(temp)a 语(esperant)o-文(literatur)o kaj 今(nun)时间(temp)aj 问题(problem)oj de la 语(esperant)o-动(mov)ado. Tiun 末(last)an 导(gvid)is 标(mark) Fettes, 何u(kiu) 是(est)is prezidanto de 普(universal)a 语(esperant)o-协会(asoci)o (UEA) de 2013 至(gxis) 2019. S城(urb)aze de siaj 私(propr)aj 经(spert)oj, li 导(gvid)is la 学生(student)ojn en 兴趣(interes)aj 讨论(diskut)oj.\\n\\nUAM 高(alt)e 评(taks)as, ke la Interlingvistikaj 学(stud)oj 贡献(kontribu)as al la 内(intern)aciigo de la 大学(universitat)o. 有效(efektiv)e, 外(krom) el Pol土(land)o, la 学生(student)oj de来(ven)as de 11 土(land)oj: Brazilo, Britio, Cxehxio, Cxinio, F败(ranc)io, Indonezio, I躯(tali)o, 心(kor)eio, Kroatio, Rumanio, Vjetnamio. \\n\\nEn tiu cxi 年(jar)o la 学生(student)oj 作品(verk)as 再(ankaux) diplom-工(labor)物(ajx)on. Siajn 结果(rezult)ojn 们(ili) 展示(prezent)os en 九月(septembr)o 2024. La 最(plej) 好(bon)aj 工(labor)物(ajx)oj 是(est)as 规(regul)e el赠(don)ataj, 例(ekzempl)e en la lingvistika 刊(revu)o In背心(vest)igationes 语(lingv)家(ist)icae de UAM.\\n\\n后(post) 25 年(jar)oj, tiu cxi 是(est)as la 末(last)a tri-年(jar)a 时期(period)o de la 学(stud)oj. 如(kvazaux) por 庆(fest)i la 25-年(jar)成(igx)on, en la 通过(pas)inta 学(stud)jaro 开始(komenc)成(igx)is la magistraj 学(stud)oj 关(pri) interlingvistiko, 框(kadr)e de la 学(stud)科(fak)o Lingvistiko kaj 通(inform)-老板(mastr)umado. La 学(stud)oj 好(bon)e 发展(progres)as 共(kun) dek 学生(student)oj, el 何u(kiu)j sep 来(ven)as el la cxina 大学(universitat)o en Zaozhuang, 何e(kie) 功能(funkci)as 语(esperant)o-科(fak)o.\\n\\nEn 2024 la 学生(student)oj de 双(ambaux) 程序(program)oj 结束(fin)os siajn 学(stud)ojn, kaj ti方(tiel) 结束(fin)成(igx)os la 史(histori)o de interlingvistiko en UAM. 何方(kiel) 末(last)a 尖(pint)a 事件(event)o 发生(okaz)os 工(labor)-sesio 关(pri) interlingvistiko 框(kadr)e de la 名(fam)a 内(intern)acia 语(lingv)家(ist)a 会(kongres)o, 何u(kiu) cxi-年(jar)e 发生(okaz)os en 姿(poz)nano, en 九月(septembr)o 2024.\\n\\n岩(rok)健(san)a 是(est)is el立(star)a 客(gast)igantino kaj iun 夜(vesper)on 她(sxi) 故事(rakont)is al mi la 跟(sekv)an 故事(rakont)on.  同(sam)oso 是(est)is 王(princ)-土(land)o 内(intern)e de la Turka 帝(imperi)o. I时(iam) la sultano en Istanbulo 有(hav)is 强(fort)an 痛(dolor)on 处(cxe) la 耳(orel)oj, 何u(kiu)n la istanbulaj 治(kurac)家(ist)oj ne 成功(sukces)is 治(kurac)i. Iu 通(inform)is la sultanon, ke en la 王(princ)土(land)o 同(sam)oso 是(est)as 名(fam)a 治(kurac)家(ist)o. La sultano 送(send)is 船(sxip)on por al来(ven)igi la 治(kurac)家(ist)on Sta垫(mat)ia散(dis), 共(kun) la 警(avert)o, ke li 是(est)os 残(kruel)e 罚(pun)ita, se io 误(mis)功能(funkci)os. Sed 后(post) unu 周(semajn)o la 耳(orel)oj de la sultano ne 增(plu) 痛(dolor)is. 何方(kiel) en 寓言(fabel)oj la sultano 说(dir)is al Sta垫(mat)ia散(dis): “谢(dank)on 因(pro) la 治(kurac)ado. 求(pet)u ion ajn, kaj mi 赠(don)os tion al vi.” Sta垫(mat)ia散(dis) 说(dir)is: “Mi 愿(vol)as, ke en la 王(princ)土(land)o 同(sam)oso 人(oni) 教(instru)u 语(esperant)on en 全u(cxiu)j 学(lern)ejoj.” La sultano 转(turn)is 思(sin) al iu 大臣(ministr)o kaj 说(dir)is: \"Ti方(tiel) 是(est)u!\"\\n\\nLa 大臣(ministr)o 备(pret)igis 信(leter)on de la sultano al la 王(princ)o de 同(sam)oso 共(kun) la 命令(ordon)o, ke 人(oni) 教(instru)u 语(esperant)on en la 学(lern)ejoj, kaj la 船(sxip)o re运(port)is Sta垫(mat)ia散(dis) kaj la 信(leter)on al 同(sam)oso. La 王(princ)o ne 有(hav)is 选择(elekt)on: li 必(nepr)e 必(dev)is 命令(ordon)i al la 学(lern)ejoj (ti时(tiam) 是(est)is 能(ebl)e du-tri en tiu 岛(insul)o) 教(instru)i 语(esperant)on. Sed la 祭司(pastr)oj kaj la 公(publik)o 是(est)is 极(tre) 非(mal)满(kontent)aj, 因(cxar) Sta垫(mat)ia散(dis) 是(est)is 识(kon)ata 社(social)家(ist)o, kaj 人(oni) 考虑(konsider)is lin 非(mal)朋(amik)o de Dio kaj de la 喊(kri)金(stan)a 宗教(religi)o. La 祭司(pastr)oj 宣(predik)is al la 民(popol)o, ke 人(oni) 必(dev)as 非(mal)帮(help)i ti方(tiel) 恐(terur)an 事(afer)on 因(pro) 罪(kulp)o de la 非(mal)强(fort)a 王(princ)o, 何u(kiu) 服(obe)is 命令(ordon)on de la islama 帝(imperi)长(estr)o 教(instru)i 语(lingv)on de la 魔(diabl)o. 们(ili) ti方(tiel) 效(efik)e 宣(predik)is, ke la 民(popol)o 燃(brul)igis la 学(lern)ejojn. Ti时(tiam) la 王(princ)o 止(cxes)igis la 教(instru)a赠(don) de 语(esperant)o, kaj Sta垫(mat)ia散(dis) 自(mem) 隔(trans)住(logx)成(igx)is al Istanbulo kaj 后(post)e al A持(ten)o. La 全(tut)a 事(afer)o 发生(okaz)is 约(cxirkaux) la 年(jar)o 1910.\\n\\nTiu 是(est)as la 故事(rakont)o, 何u(kiu)n mi 听(auxd)is de 岩(rok)健(san)a Sta垫(mat)ia散(dis), (aux \"s-ino 手(man)usu\" 依(laux) la 名(nom)o de 她(sxi)a 夫(edz)o). 生(nask)成(igx)inte en 1900, 她(sxi) 后(post)e 死(mort)is en 1981.\\n\\nSed 依(laux) 探(esplor)oj el 异(ali)aj 源(font)oj la 实(real)o 是(est)is i量(iom) 非(mal)同(sam)a kaj 非(mal)于(pli) 浪漫(romantik)a. Sta垫(mat)ia散(dis) 是(est)is 重(grav)a 治(kurac)家(ist)o en 同(sam)oso kaj 活(aktiv)a 语(esperant)家(ist)o. Li 创(fond)is 语(esperant)o-群(grup)on en 同(sam)oso 约(cxirkaux) la 年(jar)o 1905, el赠(don)is 报纸(gazet)on, kaj 说服(konvink)is la 王(princ)on 做(far)i dekreton 关(pri) 学(lern)ado de 语(esperant)o en la 学(lern)ejoj de 同(sam)oso. La 学(lern)ado de 语(esperant)o 止(cxes)is 何am(kiam) la 王(princ)o 是(est)is 死(mort)igita kaj Sta垫(mat)ia散(dis) 是(est)is 放逐(ekzil)ita al Istanbulo 因(pro) ne明(klar)aj 政(politik)aj ki因(ial)oj. \\n\\n'"
      ]
     },
     "execution_count": 17,
     "metadata": {},
     "output_type": "execute_result"
    }
   ],
   "source": [
    "text=replace_esperanto_chars(text,esperanto_to_x)\n",
    "parallel_process(text*1,1, replacements)"
   ]
  },
  {
   "cell_type": "code",
   "execution_count": 18,
   "metadata": {},
   "outputs": [],
   "source": [
    "with open('例文2.txt','r') as g:\n",
    "    ll=g.read()\n",
    "text2=replace_esperanto_chars(ll,esperanto_to_x)\n",
    "text3=parallel_process(text2*1,1, replacements)\n",
    "with open('出力2.txt','w', encoding='utf-8') as h:\n",
    "    h.write(text3)"
   ]
  },
  {
   "cell_type": "code",
   "execution_count": 19,
   "metadata": {},
   "outputs": [
    {
     "data": {
      "text/plain": [
       "(8.04831564403139, 24.861130022094585)"
      ]
     },
     "execution_count": 19,
     "metadata": {},
     "output_type": "execute_result"
    }
   ],
   "source": [
    "##执行时间的比较(実行時間の比較)\n",
    "import timeit\n",
    "import re\n",
    "import uuid\n",
    "import random as rd\n",
    "import string\n",
    "\n",
    "##用于替换的函数。尝试了正则表达式、C++等多种形式的替换，但使用Python中的'占位符'进行替换，处理速度最快。（而且非常简单易懂。）\n",
    "##置換に用いる関数。正規表現、C++など様々な形式の置換を試したが、pythonで'place holder'を用いる形式の置換が、最も処理が高速であった。(しかも大変シンプルでわかりやすい。)\n",
    "def safe_replace(text, replacements):\n",
    "    valid_replacements = {}\n",
    "    # 置换对象(old)暂时替换为'占位符'  (置換対象(old)を'place holder'に一時的に置換)\n",
    "    for old, new, placeholder in replacements:\n",
    "        if old in text:\n",
    "            text = text.replace(old, placeholder)\n",
    "            valid_replacements[placeholder] = new#记录需要稍后重新替换为替换后字符串(new)的'占位符'到字典(valid_replacements)中。\n",
    "            # 後で置換後の文字列(new)に置換し直す必要がある'place holder'を辞書(valid_replacements)に記録しておく。\n",
    "    # 将'占位符'替换为替换后的字符串(new)。  ('place holder'を置換後の文字列(new)に置換)\n",
    "    for placeholder, new in valid_replacements.items():\n",
    "        text = text.replace(placeholder, new)\n",
    "    return text\n",
    "# 各関数の実行時間を計測\n",
    "n_iterations = 20  # 执行次数(実行回数)\n",
    "\n",
    "time_safe_replace = timeit.timeit(lambda: safe_replace(text*1, replacements), number=n_iterations)\n",
    "time_multi_process = timeit.timeit(lambda: parallel_process(text*1,4, replacements), number=n_iterations)\n",
    "\n",
    "time_safe_replace,time_multi_process"
   ]
  },
  {
   "cell_type": "code",
   "execution_count": 20,
   "metadata": {},
   "outputs": [
    {
     "data": {
      "text/plain": [
       "'Ŝi'"
      ]
     },
     "execution_count": 20,
     "metadata": {},
     "output_type": "execute_result"
    }
   ],
   "source": [
    "\"ŝi\".capitalize()"
   ]
  },
  {
   "cell_type": "markdown",
   "metadata": {},
   "source": [
    "・大文字、小文字、文頭だけ大文字のものの区別については、単純にreplacementsの数を3倍にすることで解決\n",
    "・変換は5文字までは絶対正義\n",
    "・2文字はそもそも変換しないようにする。kial,kiomなど使われうる形が完全に決まっているものは例外\n",
    "変換せずアルファベットのままにしたいやつは、4文字まで(4文字含めるかどうか再検討)  　　　変換せずアルファベットのままにしたいやつ:5文字以上 8500個　4文字1900個　3文字800個　\n",
    "・漢字変換したいやつの3文字、4文字は語尾に/a,/i,/u,/e,/oをつけたやつ\"も\"候補として探す(4文字含めるかどうか微妙)    　　　漢字変換したいやつ:5文字以上 3200個　4文字960個　3文字520個\n",
    "・3文字については一般接尾辞をつけたやつ\"も\"候補として探して良いかもしれない。　　\n",
    "・他の品詞の扱いについても考慮\n",
    "(8500+1900+3200+(960+520)*5)*3"
   ]
  },
  {
   "cell_type": "code",
   "execution_count": 21,
   "metadata": {},
   "outputs": [
    {
     "name": "stdout",
     "output_type": "stream",
     "text": [
      "63000 48600 117600\n"
     ]
    }
   ],
   "source": [
    "print((8500+1900+3200+(960+520)*5)*3,(8500+1900+3200+(520)*5)*3,(8500+1900+3200+(960)*5+520*40)*3)"
   ]
  }
 ],
 "metadata": {
  "kernelspec": {
   "display_name": "Python 3",
   "language": "python",
   "name": "python3"
  },
  "language_info": {
   "codemirror_mode": {
    "name": "ipython",
    "version": 3
   },
   "file_extension": ".py",
   "mimetype": "text/x-python",
   "name": "python",
   "nbconvert_exporter": "python",
   "pygments_lexer": "ipython3",
   "version": "3.8.18"
  }
 },
 "nbformat": 4,
 "nbformat_minor": 2
}

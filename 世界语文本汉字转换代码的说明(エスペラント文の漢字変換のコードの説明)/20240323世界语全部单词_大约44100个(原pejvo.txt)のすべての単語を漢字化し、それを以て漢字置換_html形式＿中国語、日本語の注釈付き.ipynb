{
 "cells": [
  {
   "cell_type": "code",
   "execution_count": 2,
   "id": "cc223e48",
   "metadata": {},
   "outputs": [],
   "source": [
    "##世界语文本字符格式转换函数(エスペラント文の文字形式の変換関数)\n",
    "esperanto_to_x = { \"ĉ\": \"cx\", \"ĝ\": \"gx\", \"ĥ\": \"hx\", \"ĵ\": \"jx\", \"ŝ\": \"sx\", \"ŭ\": \"ux\",\n",
    "                   \"Ĉ\": \"Cx\", \"Ĝ\": \"Gx\", \"Ĥ\": \"Hx\", \"Ĵ\": \"Jx\", \"Ŝ\": \"Sx\", \"Ŭ\": \"Ux\",\n",
    "                   \"c^\": \"cx\", \"g^\": \"gx\", \"h^\": \"hx\", \"j^\": \"jx\", \"s^\": \"sx\", \"u^\": \"ux\",\n",
    "                    \"C^\": \"Cx\", \"G^\": \"Gx\", \"H^\": \"Hx\", \"J^\": \"Jx\", \"S^\": \"Sx\", \"U^\": \"Ux\"}\n",
    "x_to_jijofu={'cx': 'ĉ', 'gx': 'ĝ', 'hx': 'ĥ', 'jx': 'ĵ', 'sx': 'ŝ', 'ux': 'ŭ', 'Cx': 'Ĉ',\n",
    "             'Gx': 'Ĝ', 'Hx': 'Ĥ', 'Jx': 'Ĵ', 'Sx': 'Ŝ', 'Ux': 'Ŭ'}\n",
    "x_to_hat={'cx': 'c^', 'gx': 'g^', 'hx': 'h^', 'jx': 'j^', 'sx': 's^', 'ux': 'u^', 'Cx': 'C^',\n",
    "          'Gx': 'G^', 'Hx': 'H^', 'Jx': 'J^', 'Sx': 'S^', 'Ux': 'U^'}\n",
    "\n",
    "def replace_esperanto_chars(text,letter_dictionary):\n",
    "    for esperanto_char, x_char in letter_dictionary.items():\n",
    "        text = text.replace(esperanto_char, x_char)\n",
    "    return text\n",
    "# 用于测试的世界语文本(テスト用のエスペラント文)\n",
    "# text = \"Ĝis revido! Mia nomo estas Ĵoĥano. Ĉu vi ŝatas ĥorojn? -Ne, mi s^tas felic^on. C^ S^ H^ c^ s^ h^  Ĉ Ĝ  Gxis revido! Mia nomo estas Jxohxano. Cxu vi sxatas hxorojn? -Ne, mi sxtas felicxon. Cx Sx Hx cx sx hx  Cx Gx\"\n",
    "# ## 世界语文本字符格式的转换(エスペラント文の文字形式の変換)\n",
    "# # replaced_text = replace_esperanto_chars(text,esperanto_to_x)\n",
    "# # replaced_text =replace_esperanto_chars(text,x_to_jijofu)\n",
    "# replaced_text =replace_esperanto_chars(text,x_to_hat)\n",
    "# print(\"原文本(元のテキスト):\", text)\n",
    "# print(\"替换后的文本(置換後のテキスト):\", replaced_text)"
   ]
  },
  {
   "cell_type": "code",
   "execution_count": 3,
   "id": "052b8c23",
   "metadata": {},
   "outputs": [],
   "source": [
    "##首先，将世界语的全部单词列表(pejvo.txt)转换为X格式（转换代码中统一使用小写，X格式）\n",
    "##まず、エスペラントの全単語リスト(pejvo.txt)をX形式に変換  (変換コード上では小文字、X形式で統一)\n",
    "with open(\"世界语全部单词_大约44100个(原pejvo.txt).txt\", 'r', encoding='utf-8') as file:\n",
    "    text = file.read()\n",
    "    # 将世界语的特殊字符转换为相应的x形式。(エスペラントの特殊文字を対応するx形式に変換します。)\n",
    "    converted_text=replace_esperanto_chars(text,esperanto_to_x)\n",
    "##转换为小写（转换代码中统一使用小写，X格式）   小文字に変換しておく (変換コード上では小文字、X形式で統一)\n",
    "converted_text=converted_text.lower()\n",
    "# 将结果写入'tmp.txt'。  結果を'tmp.txt'に書き出します。\n",
    "with open('tmp.txt', 'w', encoding='utf-8') as file:\n",
    "    file.write(converted_text)"
   ]
  },
  {
   "cell_type": "code",
   "execution_count": 4,
   "id": "166c5383",
   "metadata": {},
   "outputs": [],
   "source": [
    "import os\n",
    "import re\n",
    "def contains_digit(s):##定义一个函数，检查给定的字符串s中是否包含可能是数字的字符（数字）。  対象の文字列sに数字となりうる文字列(数字)が含まれるかどうかを確認する関数\n",
    "    return any(char.isdigit() for char in s)\n",
    "result=[]\n",
    "# 打开'tmp.txt'。  'tmp.txt'を開きます。\n",
    "with open(\"tmp.txt\", 'r', encoding='utf-8') as file:\n",
    "    # 循环遍历每一行。  各行をループします。\n",
    "    for line in file:\n",
    "        # 提取出\":\"之前的部分。  \":\"が出てくるまでの部分を取り出します。\n",
    "        word = line.split(\":\")[0]\n",
    "        # 进一步将提取的部分用'-'、' '、','分开（极少数情况下也存在\",\"（例如tial)）。  さらに取り出した部分を'-'、' '、','で分けます。ごくまれに\",\"も存在する(tial)\n",
    "        parts = re.split('-| |,', word)\n",
    "        # 循环遍历每个部分，根据单词的词尾形式进行词性分类，并剪切掉这些词尾\n",
    "        # 各部分をループし、単語の語尾の形式によって品詞分類しながら、その語尾をカットします。\n",
    "        for part in parts:\n",
    "            if not (contains_digit(part) or len(part)<2):\n",
    "                if \"/\" in part:\n",
    "                    if part.endswith(('/o','/on','oj','/o!','ojn','on!')):\n",
    "                        AA=[\"/\".join(part.split(\"/\")[:-1])]\n",
    "                        AA.append('名詞')\n",
    "                    elif part.endswith(('/a','/aj','/an','/an!')):\n",
    "                        AA=[\"/\".join(part.split(\"/\")[:-1])]\n",
    "                        AA.append('形容詞')\n",
    "                    elif part.endswith(('/e','/e!')):\n",
    "                        AA=[\"/\".join(part.split(\"/\")[:-1])]\n",
    "                        AA.append('副詞')\n",
    "                    elif part.endswith(('/e/n','/e/n!')):##'/e/n'は後で気をつける\n",
    "                        AA=[\"/\".join(part.split(\"/\")[:-2])]\n",
    "                        AA.append('副詞')    \n",
    "                    elif part.endswith(('/i','/u','/u!')):\n",
    "                        AA=[\"/\".join(part.split(\"/\")[:-1])]\n",
    "                        AA.append('動詞')\n",
    "                    elif part.endswith(('/n')):\n",
    "                        AA=[\"/\".join(part.split(\"/\")[:-1])]\n",
    "                        AA.append('n語')            \n",
    "                else:\n",
    "                    AA=[part,\"無詞\"]\n",
    "                result.append(AA)"
   ]
  },
  {
   "cell_type": "code",
   "execution_count": 5,
   "id": "e262e940",
   "metadata": {},
   "outputs": [],
   "source": [
    "##检查世界语所有单词的结尾是否被正确切除\n",
    "with open(\"检查世界语所有单词的结尾是否被正确切除(result).txt\",\"w\",encoding='utf-8') as g:\n",
    "    for hh in result:\n",
    "        if len(hh)==2:##不要\n",
    "            g.write(hh[0]+','+hh[1]+\"\\n\")"
   ]
  },
  {
   "cell_type": "code",
   "execution_count": 6,
   "id": "c81690c4",
   "metadata": {},
   "outputs": [
    {
     "data": {
      "text/plain": [
       "11354"
      ]
     },
     "execution_count": 6,
     "metadata": {},
     "output_type": "execute_result"
    }
   ],
   "source": [
    "##对上述提取出的\"只切掉词尾,完全分解为词根状态的所有单词\"进行汉字替换,创建汉字替换列表。\n",
    "##\"只切掉词尾,完全分解为词根状态的所有单词\"和\"只切掉词尾,完全分解为词根状态并替换为汉字的所有单词\"将成为最终汉字替换列表的基础。\n",
    "##如果对象是完全分解为词根的单词,只需按字符数顺序替换为汉字即可实现完美的汉字替换。(但是,汉字转换需要所有词根)\n",
    "##上記で抽出された、\"語尾だけカットされた、完全に語根分解された状態の全単語\"を漢字置換するための漢字置換リストを作成していく。\n",
    "##\"語尾だけカットされた、完全に語根分解された状態の全単語\"と\"語尾だけカットされた、完全に語根分解された状態の全単語を漢字置換したもの\"が最終的な漢字置換リストの大元になる。\n",
    "##完全に語根分解されたものが対象であれば、文字数順で漢字置換するだけで完璧な漢字置換ができる。(ただし、漢字変換には全語根が必要)\n",
    "\n",
    "replacements_dict={}\n",
    "with open(\"世界语所有词根_大约11360个.txt\", 'r', encoding='utf-8') as file:####世界语所有词根_大约11360个.txt是使用\"从世界语全部单词_大约44100个(原pejvo.txt).txt中提取并输出世界语所有词根_大约11360个.txt_带中文日文注释.ipynb\"从世界语全部单词_大约44100个(原pejvo.txt).txt中提取的世界语的所有词根。\n",
    "    ##世界语所有词根_大约11360个.txtは世界语全部单词_大约44100个(原pejvo.txt).txtから\"从世界语全部单词_大约44100个(原pejvo.txt).txt中提取并输出世界语所有词根_大约11360个.txt_带中文日文注释.ipynb\"を用いて抽出したエスペラントの全語根である。\n",
    "    roots = file.readlines()\n",
    "    for root in roots:\n",
    "        root = root.strip()\n",
    "        if not root.isdigit():##删除'10'和'7'('10'と'7'を削除)\n",
    "            replacements_dict[root]=[root,len(root)]##为每个世界语词根设置替换后的字符串(在这种情况下保持原样)和替换顺序,即字符数。替换顺序的数字越大(字符数越多),就越先被替换。\n",
    "        ##各エスペラント語根に対する置換後の文字列(このケースでは元のまま)と、その置換順序として、文字数を設定。　置換順序の数字が大きい(文字数が多い)ほど、先に置換される。 \n",
    "len(replacements_dict)"
   ]
  },
  {
   "cell_type": "code",
   "execution_count": 37,
   "id": "c1ff9000",
   "metadata": {},
   "outputs": [],
   "source": [
    "##接下来,继续创建汉字替换列表,用于将\"仅词尾被截断、完全分解为词根状态的所有单词\"替换为汉字。这里反映了自己创建的汉字化列表。\n",
    "##上記に引き続き、\"語尾だけカットされた、完全に語根分解された状態の全単語\"を漢字置換するための漢字置換リストを作成していく。　ここでは自分で作成した漢字化リストを反映させる。\n",
    "\n",
    "def conversion_format(hanzi,word):##确定转换格式(変換形式を決める。)\n",
    "    return '<ruby>{}<rt>{}</rt></ruby>'.format(hanzi,word)\n",
    "input_file=\"20240316世界语词根列表＿包含2个字符的世界语词根.csv\"\n",
    "# input_file='世界语汉字表格_20240312.csv'\n",
    "with open(input_file, 'r', encoding='utf-8') as file:\n",
    "    for line in file:\n",
    "        line = line.strip()\n",
    "        j = line.split(',')\n",
    "        if len(j)>=2:\n",
    "            word,hanzi=j[0],j[1]\n",
    "            if (hanzi!='') and (word!='') and ('#' not in word):\n",
    "                replacements_dict[word]=[conversion_format(hanzi,word),len(word)]#在字典式数组中,如果有相同的键,则后面的更改将优先应用。\n",
    "                #辞書式配列では同じkeyである場合、後からの変更が優先的に適用される。\n",
    "# with open(\"replacements_dict.txt\", 'w', encoding='utf-8') as file:\n",
    "#     for old,new in replacements_dict.items():\n",
    "#         file.write(f'{old},{new[0]},{new[1]}\\n')"
   ]
  },
  {
   "cell_type": "code",
   "execution_count": 38,
   "id": "80537419",
   "metadata": {},
   "outputs": [],
   "source": [
    "pre_replacements=[]\n",
    "for old,new in replacements_dict.items():\n",
    "    pre_replacements.append((old,new[0],new[1]))\n",
    "pre_replacements3 = sorted(pre_replacements, key=lambda x: x[2], reverse=True)##按照替换顺序数字的大小顺序进行排序。(置換順序の数字の大きさ順にソート。)\n",
    "# pre_replacements3"
   ]
  },
  {
   "cell_type": "code",
   "execution_count": 39,
   "id": "5f4ce9ea",
   "metadata": {},
   "outputs": [],
   "source": [
    "\n",
    "##按照'世界语词根'、'替换汉字'、'占位符'的顺序排列，创建用于最终替换的\"replacements\"列表。\n",
    "##'エスペラント語根'、'置換漢字'、'place holder'の順に並べ、最終的な置換に用いる\"replacements\"リストを作成。\n",
    "with open('No.10000_500000.txt', 'r', encoding='utf-8') as file:##在汉字转换时预先加载用作\"占位符\"的文件。(漢字変換時に用いる\"place holder\"ファイルを予め読み込んでおく。)\n",
    "    loaded_strings = [line.strip() for line in file]\n",
    "\n",
    "replacements=[]\n",
    "for kk in range(len(pre_replacements3)):\n",
    "    replacements.append([pre_replacements3[kk][0],pre_replacements3[kk][1],loaded_strings[kk]])\n",
    "    \n",
    "def safe_replace(text, replacements):\n",
    "    valid_replacements = {}\n",
    "    # 置换对象(old)暂时替换为'占位符'  (置換対象(old)を'place holder'に一時的に置換)\n",
    "    for old, new, placeholder in replacements:\n",
    "        if old in text:\n",
    "            text = text.replace(old, placeholder)\n",
    "            valid_replacements[placeholder] = new#记录需要稍后重新替换为替换后字符串(new)的'占位符'到字典(valid_replacements)中。\n",
    "            # 後で置換後の文字列(new)に置換し直す必要がある'place holder'を辞書(valid_replacements)に記録しておく。\n",
    "            # 将'占位符'替换为替换后的字符串(new)。  ('place holder'を置換後の文字列(new)に置換)\n",
    "    for placeholder, new in valid_replacements.items():\n",
    "        text = text.replace(placeholder, new)\n",
    "    return text\n",
    "\n",
    "#检查replacements列表的内容(replacementsリストの内容確認)\n",
    "with open(\"replacements_list.txt\", 'w', encoding='utf-8') as file:\n",
    "    for old,new,priority in replacements:\n",
    "        file.write(f'{old},{new},{priority}\\n')"
   ]
  },
  {
   "cell_type": "code",
   "execution_count": 40,
   "id": "d338d23c",
   "metadata": {},
   "outputs": [],
   "source": [
    "# combined = \"#%\".join([entry[0] for entry in result])\n",
    "# (safe_replace(combined, replacements)).split(\"#%\")[:20]  ##対して速くならなかった。"
   ]
  },
  {
   "cell_type": "code",
   "execution_count": 41,
   "id": "04c18982",
   "metadata": {},
   "outputs": [
    {
     "data": {
      "text/plain": [
       "50899"
      ]
     },
     "execution_count": 41,
     "metadata": {},
     "output_type": "execute_result"
    }
   ],
   "source": [
    "len(result)"
   ]
  },
  {
   "cell_type": "code",
   "execution_count": 42,
   "id": "84a1e226",
   "metadata": {},
   "outputs": [],
   "source": [
    "##对\"仅词尾被截断、完全分解为词根状态的所有单词\"进行实际的汉字替换。\n",
    "##这里创建的\"仅词尾被截断、完全分解为词根状态的所有单词\"和\"仅词尾被截断、完全分解为词根状态的所有单词被替换为汉字\"将成为最终汉字替换列表的主要来源。 \n",
    "##\"語尾だけカットされた、完全に語根分解された状態の全単語\"を実際に漢字置換。　\n",
    "##ここで作成された、\"語尾だけカットされた、完全に語根分解された状態の全単語\"と\"語尾だけカットされた、完全に語根分解された状態の全単語を漢字置換したもの\"が最終的な漢字置換リストの大元になる。\n",
    "\n",
    "SS={}\n",
    "for j in result:####虽然需要20秒左右的时间,但我也尝试了先连接文本再进行汉字替换的方法(如上),但没有显著加速。\n",
    "    ##20秒ほどかかるが、先にテキストを結合してから漢字置換する方法を試しても(上記)、さほど高速化しなかった。\n",
    "    if len(j)==2:##j[0]是世界语词根,j[1]是词性。(j[0]がエスペラント語根、j[1]が品詞。)\n",
    "        if len(j[0])>=2:##只有2个或更多字符的世界语词根才是目标(2文字以上のエスペラント語根のみが対象)\n",
    "            if j[0] in SS:\n",
    "                if j[1] not in SS[j[0]][1]:\n",
    "                    SS[j[0]] = [SS[j[0]][0],SS[j[0]][1] + ', ' + j[1]]\n",
    "            else:\n",
    "                SS[j[0]]=[safe_replace(j[0], replacements),j[1]]\n"
   ]
  },
  {
   "cell_type": "code",
   "execution_count": 43,
   "id": "5ff404b1",
   "metadata": {},
   "outputs": [
    {
     "data": {
      "text/plain": [
       "32031"
      ]
     },
     "execution_count": 43,
     "metadata": {},
     "output_type": "execute_result"
    }
   ],
   "source": [
    "len(SS)"
   ]
  },
  {
   "cell_type": "code",
   "execution_count": 44,
   "id": "e6209237",
   "metadata": {},
   "outputs": [
    {
     "name": "stdout",
     "output_type": "stream",
     "text": [
      "abak: ['abak', '名詞']\n",
      "abat/ec: ['abat/<ruby>性<rt>ec</rt></ruby>', '名詞']\n",
      "abat/ej: ['abat/<ruby>场<rt>ej</rt></ruby>', '名詞']\n",
      "abat/in: ['abat/<ruby>女<rt>in</rt></ruby>', '名詞']\n",
      "abat: ['abat', '名詞']\n",
      "abdik: ['<ruby>退<rt>abdik</rt></ruby>', '動詞, 名詞']\n",
      "abdomen: ['abdomen', '名詞']\n",
      "abel: ['<ruby>蜜蜂<rt>abel</rt></ruby>', '形容詞, 名詞']\n",
      "miel: ['<ruby>蜜<rt>miel</rt></ruby>', '名詞, 形容詞']\n",
      "pik/il: ['<ruby>刺<rt>pik</rt></ruby>/<ruby>具<rt>il</rt></ruby>', '名詞']\n"
     ]
    }
   ],
   "source": [
    "##显示上面创建的字典型列表的前20个 (上記で作成した辞書型リストの最初から20個分を表示)\n",
    "for key, value in dict(list(SS.items())[:10]).items():\n",
    "    print(f\"{key}: {value}\")"
   ]
  },
  {
   "cell_type": "code",
   "execution_count": 45,
   "id": "5f1bbd16",
   "metadata": {},
   "outputs": [],
   "source": [
    "##更改替换方式(关于如何更改汉字转换,请编辑第一个csv文件)  (置換の仕方の変更(漢字変換の仕方の変更については最初のcsvファイルを編集する))\n",
    "# never_used_as_roots_only=[\" vin \",\" lin \",\" min \",\" amas \"]\n",
    "# for i in never_used_as_roots_only:\n",
    "#     SS[i]=[i,\"無詞\"]"
   ]
  },
  {
   "cell_type": "code",
   "execution_count": 46,
   "id": "1cc487f7",
   "metadata": {},
   "outputs": [],
   "source": [
    "QQ={}\n",
    "##如果要去掉\"/\"以HTML格式显示,请注意\"</rt></ruby>\"包含\"/\",需要特别注意! (\"/\"を抜く  html形式にしたい場合、\"</rt></ruby>\"は\"/\"を含むので要注意！)\n",
    "for i,j in SS.items():\n",
    "    if i==j[0]:\n",
    "        QQ[i.replace('/', '')]=[j[0].replace(\"</rt></ruby>\",\"%%%\").replace('/', '').replace(\"%%%\",\"</rt></ruby>\"),j[1],len(i.replace('/', ''))*10000-2500]##将实际上不进行汉字化的词根的优先级降低\n",
    "        ##漢字化しないものは優先順位を下げる\n",
    "    else:\n",
    "        QQ[i.replace('/', '')]=[j[0].replace(\"</rt></ruby>\",\"%%%\").replace('/', '').replace(\"%%%\",\"</rt></ruby>\"),j[1],len(i.replace('/', ''))*10000]\n",
    "\n",
    "# QQ\n",
    "with open(\"QQ.txt\", 'w', encoding='utf-8') as file:\n",
    "    for old,new in  QQ.items():\n",
    "        file.write(f'{old},{new[0]},{new[1]},{new[2]}\\n')\n"
   ]
  },
  {
   "cell_type": "code",
   "execution_count": 47,
   "id": "d04fbeb1",
   "metadata": {},
   "outputs": [],
   "source": [
    "# prefix_2l={'bo':'bo', 'ek':'ek', 'ge':'ge', 're':'re'}\n",
    "# prefix_3l={'cxef':'cxef', 'dis':'dis', 'eks':'eks', 'for':'for', 'mal':'mal', 'post':'post'}\n",
    "# suffix_2l={'as':'as', 'is':'is', 'os':'os', 'us':'us', 'um':'um','at':'at','it':'it','ot':'ot', 'ad':'ad','an':'an','ar':'ar','ec':'ec', 'eg':'eg',\t'ej':'ej', 'em':'em', 'er':'er', 'et':'et',\t'id':'id', 'ig':'ig', 'il':'il', 'in':'in', 'on':'on', 'op':'op', 'uj':'uj', 'ul':'ul'}\n",
    "# suffix_3l={'acx':'acx',\t'ajx':'ajx'\t, 'ebl':'ebl',\t'end':'end','estr':'estr','igx':'igx','ind':'ind','ing':'ing','ism':'ism','ist':'ist','obl':'obl','ant':'ant','int':'int','ont':'ont'}\n",
    "# prefix_2l_2={'bo': 'bo', 'ek': 'ek', 'ge': 'ge', 're': 're'}\n",
    "# prefix_3l_2={'cxef': '首(cxef)','dis': '散(dis)','eks': '前(eks)','for': '离(for)','mal': '非(mal)','post': '后(post)'}\n",
    "# suffix_2l_2={'as':'as', 'is':'is', 'os':'os', 'us':'us', 'um':'um','at':'at','it':'it','ot':'ot', 'ad':'ad','an':'an','ar':'ar','ec':'ec', 'eg':'eg',\t'ej':'ej', 'em':'em', 'er':'er', 'et':'et',\t'id':'id', 'ig':'ig', 'il':'il', 'in':'in', 'on':'on', 'op':'op', 'uj':'uj', 'ul':'ul'}\n",
    "# suffix_3l_2={'acx': '劣(acx)','ajx': '物(ajx)','ebl': '能(ebl)','end': '必(end)','estr': '长(estr)','igx': '成(igx)','ind': '价(ind)','ing': '壳(ing)','ism': '义(ism)','ist': '家(ist)','obl': '倍(obl)','ant': 'ant','int': 'int','ont': 'ont'}\n",
    "# noun_prefix_2l={'bo':'bo', 'ek':'ek', 'ge':'ge', 're':'re', 'cxef':'cxef', 'dis':'dis', 'eks':'eks', 'for':'for', 'mal':'mal', 'post':'post'}\n",
    "# noun_suffix_2l={'as':'as', 'is':'is', 'os':'os', 'us':'us', 'um':'um','at':'at','it':'it','ot':'ot', 'ad':'ad','an':'an','ar':'ar','ec':'ec', 'eg':'eg',\t'ej':'ej', 'em':'em', 'er':'er', 'et':'et',\t'id':'id', 'ig':'ig', 'il':'il', 'in':'in', 'on':'on', 'op':'op', 'uj':'uj', 'ul':'ul', \n",
    "#            'acx':'acx',\t'ajx':'ajx'\t, 'ebl':'ebl',\t'end':'end','estr':'estr','igx':'igx','ind':'ind','ing':'ing','ism':'ism','ist':'ist','obl':'obl','ant':'ant','int':'int','ont':'ont'}\n",
    "# adj_prefix_2l={'bo':'bo', 'ek':'ek', 'ge':'ge', 're':'re', 'cxef':'cxef', 'dis':'dis', 'eks':'eks', 'for':'for', 'mal':'mal', 'post':'post'}\n",
    "# adj_suffix_2l={'as':'as', 'is':'is', 'os':'os', 'us':'us', 'um':'um','at':'at','it':'it','ot':'ot', 'ad':'ad','an':'an','ar':'ar','ec':'ec', 'eg':'eg',\t'ej':'ej', 'em':'em', 'er':'er', 'et':'et',\t'id':'id', 'ig':'ig', 'il':'il', 'in':'in', 'on':'on', 'op':'op', 'uj':'uj', 'ul':'ul', \n",
    "#            'acx':'acx',\t'ajx':'ajx'\t, 'ebl':'ebl',\t'end':'end','estr':'estr','igx':'igx','ind':'ind','ing':'ing','ism':'ism','ist':'ist','obl':'obl','ant':'ant','int':'int','ont':'ont'}\n",
    "# adv_prefix_2l={'bo':'bo', 'ek':'ek', 'ge':'ge', 're':'re', 'cxef':'cxef', 'dis':'dis', 'eks':'eks', 'for':'for', 'mal':'mal', 'post':'post'}\n",
    "# adv_suffix_2l={'as':'as', 'is':'is', 'os':'os', 'us':'us', 'um':'um','at':'at','it':'it','ot':'ot', 'ad':'ad','an':'an','ar':'ar','ec':'ec', 'eg':'eg',\t'ej':'ej', 'em':'em', 'er':'er', 'et':'et',\t'id':'id', 'ig':'ig', 'il':'il', 'in':'in', 'on':'on', 'op':'op', 'uj':'uj', 'ul':'ul', \n",
    "#            'acx':'acx',\t'ajx':'ajx'\t, 'ebl':'ebl',\t'end':'end','estr':'estr','igx':'igx','ind':'ind','ing':'ing','ism':'ism','ist':'ist','obl':'obl','ant':'ant','int':'int','ont':'ont'}\n",
    "# verb_prefix_2l={'bo':'bo', 'ek':'ek', 'ge':'ge', 're':'re', 'cxef':'cxef', 'dis':'dis', 'eks':'eks', 'for':'for', 'mal':'mal', 'post':'post'}\n",
    "# verb_suffix_2l={'as':'as', 'is':'is', 'os':'os', 'us':'us', 'um':'um','at':'at','it':'it','ot':'ot', 'ad':'ad','an':'an','ar':'ar','ec':'ec', 'eg':'eg',\t'ej':'ej', 'em':'em', 'er':'er', 'et':'et',\t'id':'id', 'ig':'ig', 'il':'il', 'in':'in', 'on':'on', 'op':'op', 'uj':'uj', 'ul':'ul', \n",
    "#            'acx':'acx',\t'ajx':'ajx'\t, 'ebl':'ebl',\t'end':'end','estr':'estr','igx':'igx','ind':'ind','ing':'ing','ism':'ism','ist':'ist','obl':'obl','ant':'ant','int':'int','ont':'ont'}\n",
    "\n",
    "# noun_prefix_2l_2={}\n",
    "# for d1,d2 in noun_prefix_2l.items():\n",
    "#     noun_prefix_2l_2[d1]=safe_replace(d2, replacements)\n",
    "# noun_suffix_2l_2={}\n",
    "# for d1,d2 in noun_suffix_2l.items():\n",
    "#     noun_suffix_2l_2[d1]=safe_replace(d2, replacements)\n",
    "# adj_prefix_2l_2={}\n",
    "# for d1,d2 in adj_prefix_2l.items():\n",
    "#     adj_prefix_2l_2[d1]=safe_replace(d2, replacements)\n",
    "# adj_suffix_2l_2={}\n",
    "# for d1,d2 in adj_suffix_2l.items():\n",
    "#     adj_suffix_2l_2[d1]=safe_replace(d2, replacements)\n",
    "# adv_prefix_2l_2={}\n",
    "# for d1,d2 in adv_prefix_2l.items():\n",
    "#     adv_prefix_2l_2[d1]=safe_replace(d2, replacements)\n",
    "# adv_suffix_2l_2={}\n",
    "# for d1,d2 in adv_suffix_2l.items():\n",
    "#     adv_suffix_2l_2[d1]=safe_replace(d2, replacements)\n",
    "# verb_prefix_2l_2={}\n",
    "# for d1,d2 in verb_prefix_2l.items():\n",
    "#     verb_prefix_2l_2[d1]=safe_replace(d2, replacements)\n",
    "# verb_suffix_2l_2={}\n",
    "# for d1,d2 in verb_suffix_2l.items():\n",
    "#     verb_suffix_2l_2[d1]=safe_replace(d2, replacements)\n"
   ]
  },
  {
   "cell_type": "code",
   "execution_count": 48,
   "id": "73637b31",
   "metadata": {},
   "outputs": [],
   "source": [
    "noun_prefix_2l={}\n",
    "noun_suffix_2l={}\n",
    "adj_prefix_2l={}\n",
    "adj_suffix_2l={}\n",
    "adv_prefix_2l={}\n",
    "adv_suffix_2l={}\n",
    "verb_prefix_2l={}\n",
    "verb_suffix_2l={'as':'as', 'is':'is', 'os':'os', 'us':'us','at':'at','it':'it','ot':'ot', 'ad':'ad','igx':'igx','ant':'ant','int':'int','ont':'ont'}\n",
    "##前缀后缀的添加主要针对动词。(接頭辞接尾時の追加については、主に動詞が対象である。)\n",
    "\n",
    "noun_prefix_2l_2={}\n",
    "for d1,d2 in noun_prefix_2l.items():\n",
    "    noun_prefix_2l_2[d1]=safe_replace(d2, replacements)\n",
    "noun_suffix_2l_2={}\n",
    "for d1,d2 in noun_suffix_2l.items():\n",
    "    noun_suffix_2l_2[d1]=safe_replace(d2, replacements)\n",
    "adj_prefix_2l_2={}\n",
    "for d1,d2 in adj_prefix_2l.items():\n",
    "    adj_prefix_2l_2[d1]=safe_replace(d2, replacements)\n",
    "adj_suffix_2l_2={}\n",
    "for d1,d2 in adj_suffix_2l.items():\n",
    "    adj_suffix_2l_2[d1]=safe_replace(d2, replacements)\n",
    "adv_prefix_2l_2={}\n",
    "for d1,d2 in adv_prefix_2l.items():\n",
    "    adv_prefix_2l_2[d1]=safe_replace(d2, replacements)\n",
    "adv_suffix_2l_2={}\n",
    "for d1,d2 in adv_suffix_2l.items():\n",
    "    adv_suffix_2l_2[d1]=safe_replace(d2, replacements)\n",
    "verb_prefix_2l_2={}\n",
    "for d1,d2 in verb_prefix_2l.items():\n",
    "    verb_prefix_2l_2[d1]=safe_replace(d2, replacements)\n",
    "verb_suffix_2l_2={}\n",
    "for d1,d2 in verb_suffix_2l.items():\n",
    "    verb_suffix_2l_2[d1]=safe_replace(d2, replacements)"
   ]
  },
  {
   "cell_type": "code",
   "execution_count": 49,
   "id": "6ab17097",
   "metadata": {},
   "outputs": [],
   "source": [
    "            # if \"名詞\" in j[1]:\n",
    "            #     for k in [\"bo\",\"ek\",\"eks\",\"ge\",\"mal\",\"mis\",\"pra\",\"re\",\"sam\"]: \n",
    "            #     for k in [\"acx\",\"ad\",\"ajx\",\"an\",\"ar\",\"ebl\",\"ec\",\"eg\",\"ej\",\"em\",\"er\",\"et\",\"id\",\"il\",\"in\",\"ism\",\"ist\",\"uj\",\"ul\",\"um\",\"oj\",\"sen\"]:##\"obl\",\"on\",\"op\",\n",
    "            #     for k in [\"o\"]:          \n",
    "            # if \"形容詞\" in j[1]:\n",
    "            #     for k in [\"ne\",\"pra\",\"ek\",\"mal\",\"mis\",\"sen\",]:\n",
    "            #     for k in [\"acx\",\"et\",\"eg\",\"em\",\"ind\",\"ebl\",\"er\",\"aj\",\"iv\"]:\n",
    "            #     for k in [\"a\"]:\n",
    "            # if \"副詞\" in j[1]:\n",
    "            #     for k in [\"mal\",\"ne\",\"mis\",\"re\",\"retro\",\"sen\"]:\n",
    "            #     for k in [\"acx\",\"et\",\"eg\",\"ere\",\"om\",\"op\"]:\n",
    "            #     for k in [\"e\"]: \n",
    "            # if \"動詞\" in j[1]:\n",
    "            #     for k in [\"ek\",\"el\",\"en\",\"re\",\"mal\",\"dis\",\"mis\",\"retro\",\"for\"]:\n",
    "            #     for k in [\"ad\",\"acx\",\"et\",\"eg\",\"em\",\"ind\",\"ebl\",\"end\",\"er\",\"igx\",\"ig\",\"as\",\"os\",\"is\",\"ant\",\"int\",\"ont\",\"at\",\"it\",\"ot\",\"us\"]:\n",
    "            #     for k in [\"u,i\"]:"
   ]
  },
  {
   "cell_type": "code",
   "execution_count": 50,
   "id": "ea351ccf",
   "metadata": {},
   "outputs": [],
   "source": [
    "###最重要的巧思点\n",
    "###一番の工夫ポイント\n",
    "RR={}\n",
    "for i,j in QQ.items():##j[0]:替换后的字符串 j[1]:词性 j[2]:替换优先级\n",
    "    ##j[0]:置換後の文字列　j[1]:品詞 j[2]:置換優先順位\n",
    "    # if len(i)<=2 and i==j[0]:##删除2个字符以下的词根中没有汉字化的词根,或者也可以考虑删除所有2个字符以下的词根。 \n",
    "    # if len(i)<=2 and i==j[0]:##2文字以下の語根で漢字化されないものは削除 もしくは2文字以下の語根すべてを削除するのも有りかもしれない。\n",
    "    if len(i)==2 and (\"動詞\"  not in j[1]):##基本上不会用单个2个字符的词根进行汉字替换。但是,上面世界语全部单词_大约44100个(原pejvo.txt).txt中原本就包含的2个字符的词根已经汉字化了。\n",
    "        ##基本的に2文字の語根単体を以て漢字置換することはない。　ただし、上記の世界语全部单词_大约44100个(原pejvo.txt).txtに最初から含まれている2文字の語根は既に漢字化されている。\n",
    "        ##由于动词可以通过添加活用形式增加2个字符,因此将其添加进来。(動詞については活用を足せば、+2文字できるので追加した。)\n",
    "        continue\n",
    "    else:\n",
    "        RR[i]=[j[0],j[2]]##省略词性。(品詞は省く。)\n",
    "        if j[2]==50000 or j[2]==40000 or j[2]==30000 or j[2]==20000:##仅针对实际进行汉字化的世界语词根(実際に漢字化するエスペラント語根のみが対象)\n",
    "            if \"名詞\" in j[1]:\n",
    "                for k1,k2 in noun_prefix_2l.items():\n",
    "                    if not k1+i in QQ:\n",
    "                        RR[k1+i]=[k2+j[0],j[2]+2*10000-5000]#大幅降低不存在的词根的优先级(既存でないものは優先順位を大きく下げる)\n",
    "                for k1,k2 in noun_suffix_2l.items():##\"obl\",\"on\",\"op\",\n",
    "                    if not i+k1 in QQ:\n",
    "                        RR[i+k1]=[j[0]+k2,j[2]+2*10000-5000]#大幅降低不存在的词根的优先级(既存でないものは優先順位を大きく下げる)\n",
    "                for k in [\"o\"]:\n",
    "                    if not i+k in QQ:\n",
    "                        RR[i+k]=[j[0]+k,j[2]+1*10000-5000]#大幅降低不存在的词根的优先级(既存でないものは優先順位を大きく下げる)           \n",
    "            if \"形容詞\" in j[1]:\n",
    "                for k1,k2 in adj_prefix_2l.items():\n",
    "                    if not k1+i in QQ:\n",
    "                        RR[k1+i]=[k2+j[0],j[2]+2*10000-5000]\n",
    "                for k1,k2 in adj_suffix_2l.items():\n",
    "                    if not i+k1 in QQ:\n",
    "                        RR[i+k1]=[j[0]+k2,j[2]+2*10000-5000]\n",
    "                for k in [\"a\"]:\n",
    "                    if not i+k in QQ:\n",
    "                        RR[i+k]=[j[0]+k,j[2]+1*10000-5000] \n",
    "            if \"副詞\" in j[1]:\n",
    "                for k1,k2 in adv_prefix_2l.items():\n",
    "                    if not k1+i in QQ:\n",
    "                        RR[k1+i]=[k2+j[0],j[2]+2*10000-5000]\n",
    "                for k1,k2 in adv_suffix_2l.items():\n",
    "                    if not i+k1 in QQ:\n",
    "                        RR[i+k1]=[j[0]+k2,j[2]+2*10000-5000]\n",
    "                for k in [\"e\"]:\n",
    "                    if not i+k in QQ:\n",
    "                        RR[i+k]=[j[0]+k,j[2]+1*10000-5000]  \n",
    "            if \"動詞\" in j[1]:\n",
    "                for k1,k2 in verb_prefix_2l.items():\n",
    "                    if not k1+i in QQ:\n",
    "                        RR[k1+i]=[k2+j[0],j[2]+2*10000-5000]\n",
    "                for k1,k2 in verb_suffix_2l.items():\n",
    "                    if not i+k1 in QQ:\n",
    "                        RR[i+k1]=[j[0]+k2,j[2]+2*10000-5000]\n",
    "                for k in [\"u \",\"i \"]:##动词的\"u\"、\"i\"单个后缀后面一定是空格。(動詞の\"u\",\"i\"単体の接尾辞は後ろが空白と決まっている。)\n",
    "                    if not i+k in QQ:\n",
    "                        RR[i+k]=[j[0]+k,j[2]+2*10000-5000]                                  \n",
    "                \n",
    "    "
   ]
  },
  {
   "cell_type": "code",
   "execution_count": 51,
   "id": "9d0a48d6",
   "metadata": {},
   "outputs": [],
   "source": [
    "with open(\"RR.txt\", 'w', encoding='utf-8') as file:\n",
    "    for old,new in  RR.items():\n",
    "        file.write(f'{old},{new[0]},{new[1]}\\n')"
   ]
  },
  {
   "cell_type": "code",
   "execution_count": 52,
   "id": "f9837296",
   "metadata": {},
   "outputs": [],
   "source": [
    "##编辑RR(主要是更改替换优先级)这里也可以更改替换方式,但会跳过根据词性类型添加后缀和前缀的部分。\n",
    "##RRの編集(主に置換の優先順位の変更) ここでも置換の仕方の変更ができないことはないが、品詞の種類に応じて接尾辞や接頭辞を追加するところをスキップすることになってしまう。\n",
    "never_used_as_roots_only=[\"vin\",\"lin\",\"min\",\"amas\"]\n",
    "for i in never_used_as_roots_only:\n",
    "    RR[i]=[i,i,len(i)*10000-2500]"
   ]
  },
  {
   "cell_type": "code",
   "execution_count": 53,
   "id": "4011280b",
   "metadata": {},
   "outputs": [],
   "source": [
    "\n",
    "TT=[]\n",
    "for old,new in  RR.items():\n",
    "    TT.append((old,new[0],new[1]))"
   ]
  },
  {
   "cell_type": "code",
   "execution_count": 54,
   "id": "053fc408",
   "metadata": {},
   "outputs": [],
   "source": [
    "\n",
    "pre_replacements3= sorted(TT, key=lambda x: len(x[0]), reverse=True)##按照替换顺序数字的大小顺序进行排序。(置換順序の数字の大きさ順にソート。)"
   ]
  },
  {
   "cell_type": "code",
   "execution_count": 55,
   "id": "f3ec2f95",
   "metadata": {},
   "outputs": [],
   "source": [
    "with open(\"pre_replacements3.txt\", 'w', encoding='utf-8') as file:\n",
    "    for old,new,priority in pre_replacements3:\n",
    "        file.write(f'{old},{new},{priority}\\n')"
   ]
  },
  {
   "cell_type": "code",
   "execution_count": 56,
   "id": "adcb681c",
   "metadata": {},
   "outputs": [],
   "source": [
    "##按照'世界语词根'、'替换汉字'、'占位符'的顺序排列，创建用于最终替换的\"replacements\"列表。\n",
    "##'エスペラント語根'、'置換漢字'、'place holder'の順に並べ、最終的な置換に用いる\"replacements\"リストを作成。\n",
    "replacements=[]\n",
    "for kk in range(len(pre_replacements3)):\n",
    "    if len(pre_replacements3[kk][0])>1:\n",
    "        replacements.append([pre_replacements3[kk][0],pre_replacements3[kk][1],loaded_strings[kk]])\n",
    "    "
   ]
  },
  {
   "cell_type": "code",
   "execution_count": 57,
   "id": "8511730a",
   "metadata": {},
   "outputs": [
    {
     "data": {
      "text/plain": [
       "50517"
      ]
     },
     "execution_count": 57,
     "metadata": {},
     "output_type": "execute_result"
    }
   ],
   "source": [
    "len(replacements)"
   ]
  },
  {
   "cell_type": "code",
   "execution_count": 58,
   "id": "e749f55b",
   "metadata": {},
   "outputs": [
    {
     "data": {
      "text/plain": [
       "151551"
      ]
     },
     "execution_count": 58,
     "metadata": {},
     "output_type": "execute_result"
    }
   ],
   "source": [
    "##对应'大写字母'、'小写字母'、'句首仅大写字母'的情况。('大文字'、'小文字'、'文頭だけ大文字'のケースに対応。)\n",
    "replacements2=[]\n",
    "for old,new,place_holder in replacements:\n",
    "    replacements2.append((old,new,place_holder))\n",
    "    replacements2.append((old.upper(),new.upper(),place_holder))\n",
    "    replacements2.append((old.capitalize(),new.capitalize(),place_holder))\n",
    "len(replacements2)"
   ]
  },
  {
   "cell_type": "code",
   "execution_count": 59,
   "id": "b74ca0e6",
   "metadata": {},
   "outputs": [],
   "source": [
    "# 确认\"replacements2\"列表的内容。(\"replacements2\"リストの内容を確認)\n",
    "with open(\"replacements2_list_html.txt\", 'w', encoding='utf-8') as file:\n",
    "    for old,new,place_holder in replacements2:\n",
    "        file.write(f'{old},{new},{place_holder}\\n')\n",
    "# len(replacements2)##查看用于最终替换的\"replacements2\"列表的长度。(最終的な置換に用いる\"replacements2\"リストの長さ。)"
   ]
  },
  {
   "cell_type": "code",
   "execution_count": 60,
   "id": "af099f81",
   "metadata": {},
   "outputs": [],
   "source": [
    "replacements3=[]\n",
    "with open(\"replacements2_list_html.txt\", 'r', encoding='utf-8') as file:\n",
    "    for line in file:\n",
    "        line = line.strip()\n",
    "        j = line.split(',')\n",
    "        if len(j)==3:\n",
    "            old,new,place_holder=j[0],j[1],j[2]\n",
    "            replacements3.append((old,new,place_holder))\n",
    "#len(replacements3)  \n",
    "#replacements2和replacements3是完全相同的列表。(后面进行了确认)  (replacements2とreplacements3は全く同一のリストである。)"
   ]
  },
  {
   "cell_type": "code",
   "execution_count": 61,
   "id": "7042a5a2",
   "metadata": {},
   "outputs": [],
   "source": [
    "##error check\n",
    "# replacements3=[]\n",
    "# with open(\"replacements2_list.txt\", 'r', encoding='utf-8') as file:\n",
    "#     for line in file:\n",
    "#         line = line.strip()\n",
    "#         j = line.split(',')\n",
    "#         if len(j)==5:##3でない場合を試す。\n",
    "#             old,new,place_holder,unknown1,unknown2=j[0],j[1],j[2],j[3],j[4]\n",
    "#             replacements3.append((old,new,place_holder,unknown1,unknown2))\n",
    "# replacements3   "
   ]
  },
  {
   "cell_type": "code",
   "execution_count": 62,
   "id": "82324670",
   "metadata": {},
   "outputs": [],
   "source": [
    "##用于替换的函数。尝试了正则表达式、C++等多种形式的替换，但使用Python中的'占位符'进行替换，处理速度最快。（而且非常简单易懂。）\n",
    "##置換に用いる関数。正規表現、C++など様々な形式の置換を試したが、pythonで'place holder'を用いる形式の置換が、最も処理が高速であった。(しかも大変シンプルでわかりやすい。)\n",
    "def safe_replace(text, replacements):\n",
    "    valid_replacements = {}\n",
    "    # 置换对象(old)暂时替换为'占位符'  (置換対象(old)を'place holder'に一時的に置換)\n",
    "    for old, new, placeholder in replacements:\n",
    "        if old in text:\n",
    "            text = text.replace(old, placeholder)\n",
    "            valid_replacements[placeholder] = new#记录需要稍后重新替换为替换后字符串(new)的'占位符'到字典(valid_replacements)中。\n",
    "            # 後で置換後の文字列(new)に置換し直す必要がある'place holder'を辞書(valid_replacements)に記録しておく。\n",
    "    # 将'占位符'替换为替换后的字符串(new)。  ('place holder'を置換後の文字列(new)に置換)\n",
    "    for placeholder, new in valid_replacements.items():\n",
    "        text = text.replace(placeholder, new)\n",
    "    return text\n",
    "\n",
    "\n",
    "\n",
    "# 测试数据(テストデータ)\n",
    "text = \"\"\"Post-diplomaj studoj pri inter-lingvistiko: pinto kaj fino\n",
    "\n",
    "Interlingvistiko estas la studo de internacia komunikado kaj homaj rilatoj interalie pere de plan-lingvoj kiel Esperanto.\n",
    "\n",
    "La tri-jaraj post-diplomaj Interlingvistikaj Studoj (IS) – kiuj funkcias ekde 1998 en la pola Universitato Adam Mickiewicz (UAM) en Poznano – komencis sian lastan studjaron en septembro 2023. La internacia kursaro okazas sub la gvidado de prof. d-ro Ilona Koutny, kun la kontribuo de fame konataj esperantologoj el pluraj landoj. \n",
    "\n",
    "La tria jaro de la studoj ebligas specialiĝojn. Ĉi-foje eblis elekti inter Tradukado, Interlingvistiko kaj Esperanto-movado, aŭ Instruista trejnado. \n",
    "\n",
    "Krom la specialiĝoj, la studentoj daŭre partoprenas komunajn kursojn kiel grupo. Inter tiuj kursoj estis la stud-objektoj Nuntempa Esperanto-literaturo kaj Nuntempaj problemoj de la Esperanto-movado. Tiun lastan gvidis Mark Fettes, kiu estis prezidanto de Universala Esperanto-Asocio (UEA) de 2013 ĝis 2019. Surbaze de siaj propraj spertoj, li gvidis la studentojn en interesaj diskutoj.\n",
    "\n",
    "UAM alte taksas, ke la Interlingvistikaj Studoj kontribuas al la internaciigo de la universitato. Efektive, krom el Pollando, la studentoj devenas de 11 landoj: Brazilo, Britio, Ĉeĥio, Ĉinio, Francio, Indonezio, Italio, Koreio, Kroatio, Rumanio, Vjetnamio. \n",
    "\n",
    "En tiu ĉi jaro la studentoj verkas ankaŭ diplom-laboraĵon. Siajn rezultojn ili prezentos en septembro 2024. La plej bonaj laboraĵoj estas regule eldonataj, ekzemple en la lingvistika revuo Investigationes Lingvisticae de UAM.\n",
    "\n",
    "Post 25 jaroj, tiu ĉi estas la lasta tri-jara periodo de la studoj. Kvazaŭ por festi la 25-jariĝon, en la pasinta studjaro komenciĝis la magistraj studoj pri interlingvistiko, kadre de la studfako Lingvistiko kaj inform-mastrumado. La studoj bone progresas kun dek studentoj, el kiuj sep venas el la ĉina Universitato en Zaozhuang, kie funkcias Esperanto-fako.\n",
    "\n",
    "En 2024 la studentoj de ambaŭ programoj finos siajn studojn, kaj tiel finiĝos la historio de interlingvistiko en UAM. Kiel lasta pinta evento okazos labor-sesio pri interlingvistiko kadre de la fama internacia Lingvista Kongreso, kiu ĉi-jare okazos en Poznano, en septembro 2024.\n",
    "\n",
    "Roksana estis elstara gastigantino kaj iun vesperon ŝi rakontis al mi la sekvan rakonton.  Samoso estis princ-lando interne de la Turka Imperio. Iam la sultano en Istanbulo havis fortan doloron ĉe la oreloj, kiun la istanbulaj kuracistoj ne sukcesis kuraci. Iu informis la sultanon, ke en la princlando Samoso estas fama kuracisto. La sultano sendis ŝipon por alvenigi la kuraciston Stamatiadis, kun la averto, ke li estos kruele punita, se io misfunkcios. Sed post unu semajno la oreloj de la sultano ne plu doloris. Kiel en fabeloj la sultano diris al Stamatiadis: “Dankon pro la kuracado. Petu ion ajn, kaj mi donos tion al vi.” Stamatiadis diris: “Mi volas, ke en la princlando Samoso oni instruu Esperanton en ĉiuj lernejoj.” La sultano turnis sin al iu ministro kaj diris: \"Tiel estu!\"\n",
    "\n",
    "La ministro pretigis leteron de la sultano al la princo de Samoso kun la ordono, ke oni instruu Esperanton en la lernejoj, kaj la ŝipo reportis Stamatiadis kaj la leteron al Samoso. La princo ne havis elekton: li nepre devis ordoni al la lernejoj (tiam estis eble du-tri en tiu insulo) instrui Esperanton. Sed la pastroj kaj la publiko estis tre malkontentaj, ĉar Stamatiadis estis konata socialisto, kaj oni konsideris lin malamiko de Dio kaj de la kristana religio. La pastroj predikis al la popolo, ke oni devas malhelpi tiel teruran aferon pro kulpo de la malforta princo, kiu obeis ordonon de la islama imperiestro instrui lingvon de la diablo. Ili tiel efike predikis, ke la popolo bruligis la lernejojn. Tiam la princo ĉesigis la instruadon de Esperanto, kaj Stamatiadis mem transloĝiĝis al Istanbulo kaj poste al Ateno. La tuta afero okazis ĉirkaŭ la jaro 1910.\n",
    "\n",
    "Tiu estas la rakonto, kiun mi aŭdis de Roksana Stamatiadis, (aŭ \"s-ino Manusu\" laŭ la nomo de ŝia edzo). Naskiĝinte en 1900, ŝi poste mortis en 1981.\n",
    "\n",
    "Sed laŭ esploroj el aliaj fontoj la realo estis iom malsama kaj malpli romantika. Stamatiadis estis grava kuracisto en Samoso kaj aktiva esperantisto. Li fondis Esperanto-grupon en Samoso ĉirkaŭ la jaro 1905, eldonis gazeton, kaj konvinkis la princon fari dekreton pri lernado de Esperanto en la lernejoj de Samoso. La lernado de Esperanto ĉesis kiam la princo estis mortigita kaj Stamatiadis estis ekzilita al Istanbulo pro neklaraj politikaj kialoj. \n",
    "\n",
    "\"\"\""
   ]
  },
  {
   "cell_type": "code",
   "execution_count": 63,
   "id": "f3697d07",
   "metadata": {},
   "outputs": [],
   "source": [
    "##为了多进程处理的函数群。根据行数将文本等分为设置的进程数(num_processes)，在各个进程中并行执行替换处理后，再次合并分割的文本。\n",
    "## multiprocessingのための関数群　テキストを行数によって設定プロセス数(num_processes)に等分割して、それぞれのプロセスで並列に置換処理を実行してから、再度分割したテキストを結合する。\n",
    "\n",
    "import multiprocessing\n",
    "def process_segment(lines, replacements):\n",
    "    #字符串列表合并后执行替换处理。lines中存储的是未包含\\n的字符串群。\n",
    "    # 文字列のリストを結合してから置換処理を実行 linesには\\nが含まれていない状態の文字列群が格納されている。\n",
    "    segment = '\\n'.join(lines)\n",
    "    segment = safe_replace(segment, replacements)##这里执行safe_replace函数(ここでsafe_replace関数の実行)\n",
    "    return segment\n",
    "\n",
    "def parallel_process(text, num_processes,replacements):\n",
    "    # 将文本按行分割(テキストを行で分割)\n",
    "    lines = text.split('\\n')\n",
    "    num_lines = len(lines)\n",
    "    lines_per_process = num_lines // num_processes\n",
    "\n",
    "    # 确定分配给每个进程的行列表(各プロセスに割り当てる行のリストを決定)\n",
    "    ranges = [(i * lines_per_process, (i + 1) * lines_per_process) for i in range(num_processes)]\n",
    "    ranges[-1] = (ranges[-1][0], num_lines)  # 最后一个进程处理剩下的所有内容(最後のプロセスが残り全てを処理)\n",
    "\n",
    "    with multiprocessing.Pool(processes=num_processes) as pool:\n",
    "        # 执行并行处理(並列処理を実行)\n",
    "        results = pool.starmap(process_segment, [(lines[start:end], replacements) for start, end in ranges])\n",
    "\n",
    "    # 合并结果(結果を結合)\n",
    "    return '\\n'.join(result for result in results)\n"
   ]
  },
  {
   "cell_type": "code",
   "execution_count": 64,
   "id": "482dfe71",
   "metadata": {},
   "outputs": [
    {
     "data": {
      "text/plain": [
       "'<ruby>后<rt>post</rt></ruby>-diplomaj <ruby>学<rt>stud</rt></ruby>oj <ruby>关<rt>pri</rt></ruby> <ruby>间<rt>inter</rt></ruby>-Lingvistiko: <ruby>尖<rt>pint</rt></ruby>o kaj <ruby>结束<rt>fin</rt></ruby>o\\n\\nInterlingvistiko <ruby>是<rt>est</rt></ruby>as la <ruby>学<rt>stud</rt></ruby>o de <ruby>间<rt>inter</rt></ruby><ruby>民<rt>naci</rt></ruby>a <ruby>沟通<rt>komunik</rt></ruby>ado kaj <ruby>人<rt>hom</rt></ruby>aj <ruby>关系<rt>rilat</rt></ruby>oj <ruby>间<rt>inter</rt></ruby><ruby>异<rt>ali</rt></ruby>e <ruby>毁<rt>pere</rt></ruby> de <ruby>计划<rt>plan</rt></ruby>-<ruby>语<rt>lingv</rt></ruby>oj <ruby>何方<rt>kiel</rt></ruby> <ruby>希望<rt>esper</rt></ruby>anto.\\n\\nLa tri-<ruby>年<rt>jar</rt></ruby>aj <ruby>后<rt>post</rt></ruby>-diplomaj Interlingvistikaj <ruby>学<rt>stud</rt></ruby>oj (IS) – <ruby>何u<rt>kiu</rt></ruby>j <ruby>功能<rt>funkci</rt></ruby>as <ruby>始<rt>ek</rt></ruby>de 1998 en la pola <ruby>大学<rt>universitat</rt></ruby>o Adam Mic<ruby>何e<rt>kie</rt></ruby>wicz (U<RUBY>爱<RT>AM</RT></RUBY>) en <ruby>姿<rt>poz</rt></ruby>nano – <ruby>开始<rt>komenc</rt></ruby>is sian lastan <ruby>学<rt>stud</rt></ruby><ruby>年<rt>jar</rt></ruby>on en <ruby>九月<rt>septembr</rt></ruby>o 2023. La <ruby>间<rt>inter</rt></ruby><ruby>民<rt>naci</rt></ruby>a k<ruby>熊<rt>urs</rt></ruby>aro <ruby>发生<rt>okaz</rt></ruby>as <ruby>下<rt>sub</rt></ruby> la <ruby>导<rt>gvid</rt></ruby>ado de prof. d-ro Ilona Koutny, <ruby>共<rt>kun</rt></ruby> la <ruby>贡献<rt>kontribu</rt></ruby>o de <ruby>名<rt>fam</rt></ruby>e <ruby>识<rt>kon</rt></ruby>ataj esperantologoj el <ruby>多<rt>plur</rt></ruby>aj <ruby>土<rt>land</rt></ruby>oj. \\n\\nLa tria <ruby>年<rt>jar</rt></ruby>o de la <ruby>学<rt>stud</rt></ruby>oj <ruby>能<rt>ebl</rt></ruby><ruby>使<rt>ig</rt></ruby>as <ruby>特<rt>special</rt></ruby><ruby>使<rt>ig</rt></ruby>xojn. Cxi-<ruby>次<rt>foj</rt></ruby>e <ruby>能<rt>ebl</rt></ruby>is <ruby>选择<rt>elekt</rt></ruby>i <ruby>间<rt>inter</rt></ruby> <ruby>翻译<rt>traduk</rt></ruby>ado, Interlingvistiko kaj <ruby>希望<rt>esper</rt></ruby>anto-movado, aux <ruby>教<rt>instru</rt></ruby><ruby>家<rt>ist</rt></ruby>a <ruby>训练<rt>trejn</rt></ruby>ado. \\n\\n<ruby>外<rt>krom</rt></ruby> la <ruby>特<rt>special</rt></ruby><ruby>使<rt>ig</rt></ruby>xoj, la <ruby>学生<rt>student</rt></ruby>oj <ruby>持<rt>dauxr</rt></ruby>e <ruby>部分<rt>part</rt></ruby>o<ruby>拿<rt>pren</rt></ruby>as <ruby>共<rt>komun</rt></ruby>ajn <ruby>课<rt>kurs</rt></ruby>ojn <ruby>何方<rt>kiel</rt></ruby> <ruby>群<rt>grup</rt></ruby>o. <ruby>间<rt>inter</rt></ruby> Tiuj <ruby>课<rt>kurs</rt></ruby>oj <ruby>是<rt>est</rt></ruby>is la <ruby>学<rt>stud</rt></ruby>-<ruby>物<rt>objekt</rt></ruby>oj <ruby>今<rt>nun</rt></ruby><ruby>时间<rt>temp</rt></ruby>a <ruby>希望<rt>esper</rt></ruby>anto-<ruby>文<rt>literatur</rt></ruby>o kaj <ruby>今<rt>nun</rt></ruby><ruby>时间<rt>temp</rt></ruby>aj <ruby>问题<rt>problem</rt></ruby>oj de la <ruby>希望<rt>esper</rt></ruby>anto-movado. Tiun lastan <ruby>导<rt>gvid</rt></ruby>is <ruby>标<rt>mark</rt></ruby> Fettes, <ruby>何u<rt>kiu</rt></ruby> <ruby>是<rt>est</rt></ruby>is prezidanto de <ruby>普<rt>universal</rt></ruby>a <ruby>希望<rt>esper</rt></ruby>anto-<ruby>协会<rt>asoci</rt></ruby>o (UEA) de 2013 <ruby>至<rt>gxis</rt></ruby> 2019. <ruby>上<rt>sur</rt></ruby><ruby>基<rt>baz</rt></ruby>e de siaj <ruby>私<rt>propr</rt></ruby>aj <ruby>经<rt>spert</rt></ruby>oj, li <ruby>导<rt>gvid</rt></ruby>is la <ruby>学生<rt>student</rt></ruby>ojn en <ruby>兴趣<rt>interes</rt></ruby>aj <ruby>讨论<rt>diskut</rt></ruby>oj.\\n\\nU<RUBY>爱<RT>AM</RT></RUBY> alte <ruby>评<rt>taks</rt></ruby>as, ke la Interlingvistikaj <ruby>学<rt>stud</rt></ruby>oj <ruby>贡献<rt>kontribu</rt></ruby>as al la <ruby>间<rt>inter</rt></ruby><ruby>民<rt>naci</rt></ruby><ruby>使<rt>ig</rt></ruby>o de la <ruby>大学<rt>universitat</rt></ruby>o. <ruby>有效<rt>efektiv</rt></ruby>e, <ruby>外<rt>krom</rt></ruby> el Pol<ruby>土<rt>land</rt></ruby>o, la <ruby>学生<rt>student</rt></ruby>oj de<ruby>来<rt>ven</rt></ruby>as de 11 <ruby>土<rt>land</rt></ruby>oj: Brazilo, Britio, Cxehxio, Cxinio, Francio, Indonezio, Italio, Koreio, Kroatio, Rumanio, Vjetnamio. \\n\\nEn Tiu Cxi <ruby>年<rt>jar</rt></ruby>o la <ruby>学生<rt>student</rt></ruby>oj <ruby>作品<rt>verk</rt></ruby>as <ruby>再<rt>ankaux</rt></ruby> diplom-<ruby>工<rt>labor</rt></ruby><ruby>物<rt>ajx</rt></ruby>on. Siajn <ruby>结果<rt>rezult</rt></ruby>ojn <ruby>们<rt>ili</rt></ruby> <ruby>展示<rt>prezent</rt></ruby>os en <ruby>九月<rt>septembr</rt></ruby>o 2024. La <ruby>最<rt>plej</rt></ruby> <ruby>好<rt>bon</rt></ruby>aj <ruby>工<rt>labor</rt></ruby><ruby>物<rt>ajx</rt></ruby>oj <ruby>是<rt>est</rt></ruby>as <ruby>规<rt>regul</rt></ruby>e <ruby>外<rt>el</rt></ruby><ruby>赠<rt>don</rt></ruby>ataj, <ruby>例<rt>ekzempl</rt></ruby>e en la Lingvistika <ruby>刊<rt>revu</rt></ruby>o Inv<ruby>是<rt>est</rt></ruby><ruby>使<rt>ig</rt></ruby>atio<ruby>不<rt>ne</rt></ruby>s <ruby>语<rt>lingv</rt></ruby><ruby>家<rt>ist</rt></ruby>icae de U<RUBY>爱<RT>AM</RT></RUBY>.\\n\\n<ruby>后<rt>post</rt></ruby> 25 <ruby>年<rt>jar</rt></ruby>oj, Tiu Cxi <ruby>是<rt>est</rt></ruby>as la <ruby>末<rt>last</rt></ruby>a tri-<ruby>年<rt>jar</rt></ruby>a <ruby>时期<rt>period</rt></ruby>o de la <ruby>学<rt>stud</rt></ruby>oj. <ruby>如<rt>kvazaux</rt></ruby> por <ruby>庆<rt>fest</rt></ruby>i la 25-<ruby>年<rt>jar</rt></ruby><ruby>成<rt>igx</rt></ruby>on, en la <ruby>通过<rt>pas</rt></ruby>inta <ruby>学<rt>stud</rt></ruby><ruby>年<rt>jar</rt></ruby>o <ruby>开始<rt>komenc</rt></ruby><ruby>成<rt>igx</rt></ruby>is la magistraj <ruby>学<rt>stud</rt></ruby>oj <ruby>关<rt>pri</rt></ruby> Interlingvistiko, <ruby>框<rt>kadr</rt></ruby>e de la <ruby>学<rt>stud</rt></ruby><ruby>科<rt>fak</rt></ruby>o Lingvistiko kaj <ruby>通<rt>inform</rt></ruby>-<ruby>老板<rt>mastr</rt></ruby>umado. La <ruby>学<rt>stud</rt></ruby>oj <ruby>好<rt>bon</rt></ruby>e <ruby>发展<rt>progres</rt></ruby>as <ruby>共<rt>kun</rt></ruby> dek <ruby>学生<rt>student</rt></ruby>oj, el <ruby>何u<rt>kiu</rt></ruby>j sep <ruby>来<rt>ven</rt></ruby>as el la cxina <ruby>大学<rt>universitat</rt></ruby>o en Zaozhuang, <ruby>何e<rt>kie</rt></ruby> <ruby>功能<rt>funkci</rt></ruby>as <ruby>希望<rt>esper</rt></ruby>anto-<ruby>科<rt>fak</rt></ruby>o.\\n\\nEn 2024 la <ruby>学生<rt>student</rt></ruby>oj de <ruby>双<rt>ambaux</rt></ruby> <ruby>程序<rt>program</rt></ruby>oj <ruby>结束<rt>fin</rt></ruby>os siajn <ruby>学<rt>stud</rt></ruby>ojn, kaj <ruby>ti方<rt>tiel</rt></ruby> <ruby>结束<rt>fin</rt></ruby><ruby>成<rt>igx</rt></ruby>os la <ruby>史<rt>histori</rt></ruby>o de Interlingvistiko en U<RUBY>爱<RT>AM</RT></RUBY>. <ruby>何方<rt>kiel</rt></ruby> <ruby>末<rt>last</rt></ruby>a <ruby>尖<rt>pint</rt></ruby>a <ruby>事件<rt>event</rt></ruby>o <ruby>发生<rt>okaz</rt></ruby>os <ruby>工<rt>labor</rt></ruby>-sesio <ruby>关<rt>pri</rt></ruby> Interlingvistiko <ruby>框<rt>kadr</rt></ruby>e de la <ruby>名<rt>fam</rt></ruby>a <ruby>间<rt>inter</rt></ruby><ruby>民<rt>naci</rt></ruby>a <ruby>语<rt>lingv</rt></ruby><ruby>家<rt>ist</rt></ruby>a <ruby>会<rt>kongres</rt></ruby>o, <ruby>何u<rt>kiu</rt></ruby> Cxi-<ruby>年<rt>jar</rt></ruby>e <ruby>发生<rt>okaz</rt></ruby>os en <ruby>姿<rt>poz</rt></ruby>nano, en <ruby>九月<rt>septembr</rt></ruby>o 2024.\\n\\n<ruby>岩<rt>rok</rt></ruby>sana <ruby>是<rt>est</rt></ruby>is <ruby>外<rt>el</rt></ruby><ruby>立<rt>star</rt></ruby>a <ruby>客<rt>gast</rt></ruby><ruby>使<rt>ig</rt></ruby>antino kaj iun <ruby>夜<rt>vesper</rt></ruby>on <ruby>她<rt>sxi</rt></ruby> <ruby>故事<rt>rakont</rt></ruby>is al mi la sekvan <ruby>故事<rt>rakont</rt></ruby>on.  Samoso <ruby>是<rt>est</rt></ruby>is <ruby>王<rt>princ</rt></ruby>-<ruby>土<rt>land</rt></ruby>o <ruby>内<rt>intern</rt></ruby>e de la Turka <ruby>帝<rt>imperi</rt></ruby>o. <ruby>i时<rt>iam</rt></ruby> la sultano en Istanbulo <ruby>有<rt>hav</rt></ruby>is <ruby>强<rt>fort</rt></ruby>an <ruby>痛<rt>dolor</rt></ruby>on <ruby>处<rt>cxe</rt></ruby> la <ruby>耳<rt>orel</rt></ruby>oj, <ruby>何u<rt>kiu</rt></ruby>n la Istanbulaj <ruby>治<rt>kurac</rt></ruby><ruby>家<rt>ist</rt></ruby>oj <ruby>不<rt>ne</rt></ruby> <ruby>成功<rt>sukces</rt></ruby>is <ruby>治<rt>kurac</rt></ruby>i. Iu in<ruby>型<rt>form</rt></ruby>is la sultanon, ke en la <ruby>王<rt>princ</rt></ruby><ruby>土<rt>land</rt></ruby>o Samoso <ruby>是<rt>est</rt></ruby>as <ruby>名<rt>fam</rt></ruby>a <ruby>治<rt>kurac</rt></ruby><ruby>家<rt>ist</rt></ruby>o. La sultano <ruby>送<rt>send</rt></ruby>is <ruby>船<rt>sxip</rt></ruby>on por al<ruby>来<rt>ven</rt></ruby><ruby>使<rt>ig</rt></ruby>i la <ruby>治<rt>kurac</rt></ruby><ruby>家<rt>ist</rt></ruby>on St<ruby>爱<rt>am</rt></ruby>atiadis, <ruby>共<rt>kun</rt></ruby> la <ruby>警<rt>avert</rt></ruby>o, ke li <ruby>是<rt>est</rt></ruby>os <ruby>残<rt>kruel</rt></ruby>e <ruby>罚<rt>pun</rt></ruby>ita, se io <ruby>误<rt>mis</rt></ruby><ruby>功能<rt>funkci</rt></ruby>os. Sed <ruby>后<rt>post</rt></ruby> unu <ruby>周<rt>semajn</rt></ruby>o la <ruby>耳<rt>orel</rt></ruby>oj de la sultano <ruby>不<rt>ne</rt></ruby> <ruby>增<rt>plu</rt></ruby> <ruby>痛<rt>dolor</rt></ruby>is. <ruby>何方<rt>kiel</rt></ruby> en <ruby>寓言<rt>fabel</rt></ruby>oj la sultano <ruby>说<rt>dir</rt></ruby>is al St<ruby>爱<rt>am</rt></ruby>atiadis: “<ruby>谢<rt>dank</rt></ruby>on <ruby>因<rt>pro</rt></ruby> la <ruby>治<rt>kurac</rt></ruby>ado. <ruby>求<rt>pet</rt></ruby>u ion ajn, kaj mi <ruby>赠<rt>don</rt></ruby>os tion al vi.” St<ruby>爱<rt>am</rt></ruby>atiadis <ruby>说<rt>dir</rt></ruby>is: “Mi <ruby>愿<rt>vol</rt></ruby>as, ke en la <ruby>王<rt>princ</rt></ruby><ruby>土<rt>land</rt></ruby>o Samoso <ruby>人<rt>oni</rt></ruby> <ruby>教<rt>instru</rt></ruby>u <ruby>希望<rt>esper</rt></ruby>anton en <ruby>全u<rt>cxiu</rt></ruby>j <ruby>学<rt>lern</rt></ruby><ruby>场<rt>ej</rt></ruby>oj.” La sultano <ruby>转<rt>turn</rt></ruby>is <ruby>思<rt>sin</rt></ruby> al iu <ruby>大臣<rt>ministr</rt></ruby>o kaj <ruby>说<rt>dir</rt></ruby>is: \"<ruby>ti方<rt>tiel</rt></ruby> <ruby>是<rt>est</rt></ruby>u!\"\\n\\nLa <ruby>大臣<rt>ministr</rt></ruby>o pr<ruby>小<rt>et</rt></ruby><ruby>使<rt>ig</rt></ruby>is <ruby>信<rt>leter</rt></ruby>on de la sultano al la <ruby>王<rt>princ</rt></ruby>o de Samoso <ruby>共<rt>kun</rt></ruby> la <ruby>命令<rt>ordon</rt></ruby>o, ke <ruby>人<rt>oni</rt></ruby> <ruby>教<rt>instru</rt></ruby>u <ruby>希望<rt>esper</rt></ruby>anton en la <ruby>学<rt>lern</rt></ruby><ruby>场<rt>ej</rt></ruby>oj, kaj la <ruby>船<rt>sxip</rt></ruby>o re<ruby>运<rt>port</rt></ruby>is St<ruby>爱<rt>am</rt></ruby>atiadis kaj la <ruby>信<rt>leter</rt></ruby>on al Samoso. La <ruby>王<rt>princ</rt></ruby>o <ruby>不<rt>ne</rt></ruby> <ruby>有<rt>hav</rt></ruby>is <ruby>选择<rt>elekt</rt></ruby>on: li <ruby>必<rt>nepr</rt></ruby>e <ruby>必<rt>dev</rt></ruby>is <ruby>命令<rt>ordon</rt></ruby>i al la <ruby>学<rt>lern</rt></ruby><ruby>场<rt>ej</rt></ruby>oj (<ruby>ti时<rt>tiam</rt></ruby> <ruby>是<rt>est</rt></ruby>is <ruby>能<rt>ebl</rt></ruby>e du-tri en Tiu <ruby>岛<rt>insul</rt></ruby>o) <ruby>教<rt>instru</rt></ruby>i <ruby>希望<rt>esper</rt></ruby>anton. Sed la <ruby>祭司<rt>pastr</rt></ruby>oj kaj la <ruby>公<rt>publik</rt></ruby>o <ruby>是<rt>est</rt></ruby>is <ruby>极<rt>tre</rt></ruby> <ruby>非<rt>mal</rt></ruby><ruby>满<rt>kontent</rt></ruby>aj, <ruby>因<rt>cxar</rt></ruby> St<ruby>爱<rt>am</rt></ruby>atiadis <ruby>是<rt>est</rt></ruby>is <ruby>识<rt>kon</rt></ruby>ata <ruby>社<rt>social</rt></ruby><ruby>家<rt>ist</rt></ruby>o, kaj <ruby>人<rt>oni</rt></ruby> <ruby>考虑<rt>konsider</rt></ruby>is lin <ruby>非<rt>mal</rt></ruby><ruby>朋<rt>amik</rt></ruby>o de Dio kaj de la krist<ruby>员<rt>an</rt></ruby>a <ruby>宗教<rt>religi</rt></ruby>o. La <ruby>祭司<rt>pastr</rt></ruby>oj <ruby>宣<rt>predik</rt></ruby>is al la <ruby>民<rt>popol</rt></ruby>o, ke <ruby>人<rt>oni</rt></ruby> <ruby>必<rt>dev</rt></ruby>as <ruby>非<rt>mal</rt></ruby><ruby>帮<rt>help</rt></ruby>i <ruby>ti方<rt>tiel</rt></ruby> <ruby>恐<rt>terur</rt></ruby>an <ruby>事<rt>afer</rt></ruby>on <ruby>因<rt>pro</rt></ruby> <ruby>罪<rt>kulp</rt></ruby>o de la <ruby>非<rt>mal</rt></ruby><ruby>强<rt>fort</rt></ruby>a <ruby>王<rt>princ</rt></ruby>o, <ruby>何u<rt>kiu</rt></ruby> <ruby>服<rt>obe</rt></ruby>is <ruby>命令<rt>ordon</rt></ruby>on de la islama <ruby>帝<rt>imperi</rt></ruby><ruby>长<rt>estr</rt></ruby>o <ruby>教<rt>instru</rt></ruby>i <ruby>语<rt>lingv</rt></ruby>on de la <ruby>魔<rt>diabl</rt></ruby>o. <ruby>们<rt>ili</rt></ruby> <ruby>ti方<rt>tiel</rt></ruby> <ruby>效<rt>efik</rt></ruby>e <ruby>宣<rt>predik</rt></ruby>is, ke la <ruby>民<rt>popol</rt></ruby>o <ruby>燃<rt>brul</rt></ruby><ruby>使<rt>ig</rt></ruby>is la <ruby>学<rt>lern</rt></ruby><ruby>场<rt>ej</rt></ruby>ojn. <ruby>ti时<rt>tiam</rt></ruby> la <ruby>王<rt>princ</rt></ruby>o <ruby>止<rt>cxes</rt></ruby><ruby>使<rt>ig</rt></ruby>is la <ruby>教<rt>instru</rt></ruby>adon de <ruby>希望<rt>esper</rt></ruby>anto, kaj St<ruby>爱<rt>am</rt></ruby>atiadis <ruby>自<rt>mem</rt></ruby> <ruby>隔<rt>trans</rt></ruby><ruby>住<rt>logx</rt></ruby><ruby>成<rt>igx</rt></ruby>is al Istanbulo kaj <ruby>后<rt>post</rt></ruby>e al Ateno. La <ruby>全<rt>tut</rt></ruby>a <ruby>事<rt>afer</rt></ruby>o <ruby>发生<rt>okaz</rt></ruby>is <ruby>约<rt>cxirkaux</rt></ruby> la <ruby>年<rt>jar</rt></ruby>o 1910.\\n\\nTiu <ruby>是<rt>est</rt></ruby>as la <ruby>故事<rt>rakont</rt></ruby>o, <ruby>何u<rt>kiu</rt></ruby>n mi <ruby>听<rt>auxd</rt></ruby>is de <ruby>岩<rt>rok</rt></ruby>sana St<ruby>爱<rt>am</rt></ruby>atiadis, (aux \"s-ino Manusu\" <ruby>依<rt>laux</rt></ruby> la <ruby>名<rt>nom</rt></ruby>o de <ruby>她<rt>sxi</rt></ruby>a <ruby>夫<rt>edz</rt></ruby>o). <ruby>生<rt>nask</rt></ruby><ruby>成<rt>igx</rt></ruby>inte en 1900, <ruby>她<rt>sxi</rt></ruby> <ruby>后<rt>post</rt></ruby>e <ruby>死<rt>mort</rt></ruby>is en 1981.\\n\\nSed <ruby>依<rt>laux</rt></ruby> <ruby>探<rt>esplor</rt></ruby>oj el <ruby>异<rt>ali</rt></ruby>aj <ruby>源<rt>font</rt></ruby>oj la <ruby>实<rt>real</rt></ruby>o <ruby>是<rt>est</rt></ruby>is <ruby>i量<rt>iom</rt></ruby> <ruby>非<rt>mal</rt></ruby><ruby>同<rt>sam</rt></ruby>a kaj malpli <ruby>浪漫<rt>romantik</rt></ruby>a. St<ruby>爱<rt>am</rt></ruby>atiadis <ruby>是<rt>est</rt></ruby>is <ruby>重<rt>grav</rt></ruby>a <ruby>治<rt>kurac</rt></ruby><ruby>家<rt>ist</rt></ruby>o en Samoso kaj <ruby>活<rt>aktiv</rt></ruby>a <ruby>语<rt>esperant</rt></ruby><ruby>家<rt>ist</rt></ruby>o. Li <ruby>创<rt>fond</rt></ruby>is <ruby>希望<rt>esper</rt></ruby>anto-<ruby>群<rt>grup</rt></ruby>on en Samoso <ruby>约<rt>cxirkaux</rt></ruby> la <ruby>年<rt>jar</rt></ruby>o 1905, <ruby>外<rt>el</rt></ruby><ruby>赠<rt>don</rt></ruby>is <ruby>报纸<rt>gazet</rt></ruby>on, kaj <ruby>说服<rt>konvink</rt></ruby>is la <ruby>王<rt>princ</rt></ruby>on <ruby>做<rt>far</rt></ruby>i dekreton <ruby>关<rt>pri</rt></ruby> <ruby>学<rt>lern</rt></ruby>ado de <ruby>希望<rt>esper</rt></ruby>anto en la <ruby>学<rt>lern</rt></ruby><ruby>场<rt>ej</rt></ruby>oj de Samoso. La <ruby>学<rt>lern</rt></ruby>ado de <ruby>希望<rt>esper</rt></ruby>anto <ruby>止<rt>cxes</rt></ruby>is <ruby>何am<rt>kiam</rt></ruby> la <ruby>王<rt>princ</rt></ruby>o <ruby>是<rt>est</rt></ruby>is <ruby>死<rt>mort</rt></ruby><ruby>使<rt>ig</rt></ruby>ita kaj St<ruby>爱<rt>am</rt></ruby>atiadis <ruby>是<rt>est</rt></ruby>is <ruby>放逐<rt>ekzil</rt></ruby>ita al Istanbulo <ruby>因<rt>pro</rt></ruby> <ruby>不<rt>ne</rt></ruby><ruby>明<rt>klar</rt></ruby>aj <ruby>政<rt>politik</rt></ruby>aj <ruby>何因<rt>kial</rt></ruby>oj. \\n\\n'"
      ]
     },
     "execution_count": 64,
     "metadata": {},
     "output_type": "execute_result"
    }
   ],
   "source": [
    "text=replace_esperanto_chars(text,esperanto_to_x)\n",
    "safe_replace(text,replacements3)\n",
    "# parallel_process(text*1,1, replacements)\n"
   ]
  },
  {
   "cell_type": "code",
   "execution_count": 65,
   "id": "c32cc1b3",
   "metadata": {},
   "outputs": [
    {
     "data": {
      "text/plain": [
       "'membroj <ruby>有<rt>hav</rt></ruby>as'"
      ]
     },
     "execution_count": 65,
     "metadata": {},
     "output_type": "execute_result"
    }
   ],
   "source": [
    "safe_replace(\"membroj havas\",replacements3)"
   ]
  },
  {
   "cell_type": "code",
   "execution_count": 35,
   "id": "bdd131a5",
   "metadata": {},
   "outputs": [],
   "source": [
    "with open('例文2.txt','r') as g:\n",
    "    ll=g.read()\n",
    "text2=replace_esperanto_chars(ll,esperanto_to_x)\n",
    "text3=safe_replace(text2, replacements2)\n",
    "# text3=parallel_process(text2*1,1, replacements2)\n",
    "with open('出力2.html','w', encoding='utf-8') as h:\n",
    "    h.write(text3)"
   ]
  },
  {
   "cell_type": "markdown",
   "id": "e7713af7",
   "metadata": {},
   "source": [
    "以下是附录(以下はおまけ)"
   ]
  },
  {
   "cell_type": "code",
   "execution_count": 36,
   "id": "c92b78d8",
   "metadata": {},
   "outputs": [],
   "source": [
    "#ファイルのエンコーディング問題　　オリジナルの\"pejvo.txt\"を\"世界语全部单词_大约44000个(原pejvo.txt).txt\"に改名する際、encodingも'SHIFT_JIS'から'utf-8'に変更した。\n",
    "\n",
    "# import chardet\n",
    "# with open('pejvo.txt', 'rb') as f:\n",
    "#     result = chardet.detect(f.read())\n",
    "# print(result['encoding'])\n",
    "# # 'SHIFT_JIS'エンコーディングでファイルを読み込む\n",
    "# with open('pejvo.txt', 'r', encoding='SHIFT_JIS') as f:\n",
    "#     content = f.read()\n",
    "# # UTF-8エンコーディングで内容をファイルに書き戻す\n",
    "# with open('世界语全部单词_大约44000个(原pejvo.txt).txt', 'w', encoding='utf-8') as f:\n",
    "#     f.write(content)"
   ]
  },
  {
   "cell_type": "code",
   "execution_count": 37,
   "id": "680551ac",
   "metadata": {},
   "outputs": [],
   "source": [
    "##収録されているエスペラントの単語の語尾の確認(特に名詞、形容詞、副詞、動詞はどのような形式(接尾辞)で収録されているか)\n",
    "not_aiueojn_list=[]\n",
    "# テキストファイルを開きます。\n",
    "with open(\"tmp.txt\", 'r', encoding='utf-8') as file:\n",
    "    # 各行をループします。\n",
    "    for line in file:\n",
    "        # \":\"が出てくるまでの部分を取り出します。\n",
    "        word = line.split(\":\")[0]\n",
    "        # さらに取り出した部分を\"-, \"で分けます。\n",
    "        parts = re.split('-| ', word)\n",
    "        # 各部分をループします。\n",
    "        for part in parts:\n",
    "            if not part.endswith(('a', 'i', 'u', 'e', 'o','oj','aj','/on','/e/n','/an','on!','/e!','ojn','/an!','/e/n!','/o!','/u!')):\n",
    "                not_aiueojn_list.append(part)\n",
    "with open(\"irregular_suffix.txt\",\"w\",encoding='utf-8') as g:\n",
    "    for hh in not_aiueojn_list:\n",
    "        g.write(hh+\"\\n\")\n",
    "##収録されているエスペラントの単語の語尾の確認(特に名詞、形容詞、副詞、動詞はどのような形式(接尾辞)で収録されているか)\n",
    "aiueojn_list=[]\n",
    "# テキストファイルを開きます。\n",
    "with open(\"tmp.txt\", 'r', encoding='utf-8') as file:\n",
    "    # 各行をループします。\n",
    "    for line in file:\n",
    "        # \":\"が出てくるまでの部分を取り出します。\n",
    "        word = line.split(\":\")[0]\n",
    "        # 取り出した部分を\"-, \"で分けます。\n",
    "        parts = re.split('-| ', word)\n",
    "        # 各部分をループします。\n",
    "        for part in parts:\n",
    "            if part.endswith(('/on','/e/n','/an','/an!','/e/n!','/o!','/u!')):\n",
    "                aiueojn_list.append(part)\n",
    "\n",
    "with open(\"regular_suffix.txt\",\"w\",encoding='utf-8') as g:\n",
    "    for hh in aiueojn_list:\n",
    "        g.write(hh+\"\\n\")"
   ]
  },
  {
   "cell_type": "code",
   "execution_count": 38,
   "id": "ada2b088",
   "metadata": {},
   "outputs": [
    {
     "name": "stdout",
     "output_type": "stream",
     "text": [
      "replacements2にのみ存在する要素: set()\n",
      "replacements3にのみ存在する要素: set()\n",
      "リストは同一です。\n"
     ]
    }
   ],
   "source": [
    "#リストreplacements2とリストreplacements3が同一であることの確認\n",
    "# 集合に変換\n",
    "set_replacements2 = set(replacements2)\n",
    "set_replacements3 = set(replacements3)\n",
    "# 差分を取得\n",
    "diff_replacements2 = set_replacements2 - set_replacements3\n",
    "diff_replacements3 = set_replacements3 - set_replacements2\n",
    "# 結果を表示\n",
    "print(\"replacements2にのみ存在する要素:\", diff_replacements2)\n",
    "print(\"replacements3にのみ存在する要素:\", diff_replacements3)\n",
    "# 違いがあるかどうかを調べる\n",
    "if diff_replacements2 or diff_replacements3:\n",
    "    print(\"リスト同士に違いが存在します。\")\n",
    "else:\n",
    "    print(\"リストは同一です。\")"
   ]
  }
 ],
 "metadata": {
  "kernelspec": {
   "display_name": "Python 3 (ipykernel)",
   "language": "python",
   "name": "python3"
  },
  "language_info": {
   "codemirror_mode": {
    "name": "ipython",
    "version": 3
   },
   "file_extension": ".py",
   "mimetype": "text/x-python",
   "name": "python",
   "nbconvert_exporter": "python",
   "pygments_lexer": "ipython3",
   "version": "3.8.18"
  }
 },
 "nbformat": 4,
 "nbformat_minor": 5
}

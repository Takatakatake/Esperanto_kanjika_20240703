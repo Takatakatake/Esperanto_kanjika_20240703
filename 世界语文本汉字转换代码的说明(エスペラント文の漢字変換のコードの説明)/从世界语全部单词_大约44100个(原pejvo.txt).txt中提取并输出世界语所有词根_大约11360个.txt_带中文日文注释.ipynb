{
 "cells": [
  {
   "cell_type": "code",
   "execution_count": 3,
   "id": "052b8c23",
   "metadata": {},
   "outputs": [],
   "source": [
    "import os\n",
    "import re\n",
    "##首先,我们将世界语的全部单词列表(pejvo.txt)转换为X格式(在转换代码中统一为小写,X格式)。 (まず、エスペラントの全単語リスト(pejvo.txt)をX形式に変換  (変換コード上では小文字、X形式で統一))\n",
    "\n",
    "#首先,我们创建一个字典来将世界语的特殊字符转换为对应的x形式。 (エスペラントの特殊文字を対応するx形式に変換する辞書を作成します。)\n",
    "esperanto_to_x = {\"ĉ\": \"cx\",\"ĝ\": \"gx\",\"ĥ\": \"hx\",\"ĵ\": \"jx\",\"ŝ\": \"sx\",\"ŭ\": \"ux\",\"Ĉ\": \"Cx\",\"Ĝ\": \"Gx\",\"Ĥ\": \"Hx\",\"Ĵ\": \"Jx\",\"Ŝ\": \"Sx\",\"Ŭ\": \"Ux\",\n",
    "\"c^\": \"cx\",\"g^\": \"gx\",\"h^\": \"hx\",\"j^\": \"jx\",\"s^\": \"sx\",\"u^\": \"ux\",\"C^\": \"Cx\",\"G^\": \"Gx\",\"H^\": \"Hx\",\"J^\": \"Jx\",\"S^\": \"Sx\",\"U^\": \"Ux\"}\n",
    "# 设置包含世界语单词和意义的输入文本文件路径。(入力テキストファイルのパスを設定します。)\n",
    "input_file = \"世界语全部单词_大约44100个(原pejvo.txt).txt\"\n",
    "\n",
    "# 创建一个空字符串来保存转换后的文本。　(変換後のテキストを保存するための変数を作成します。)\n",
    "converted_text = \"\"\n",
    "# 打开文本文件。(テキストファイルを開きます。)\n",
    "with open(input_file, 'r', encoding='utf-8') as file:\n",
    "    text = file.read()\n",
    "    ##转换为小写(在转换代码中统一为小写,X格式)(# エスペラントの特殊文字を対応するx形式に変換します。)\n",
    "    for esperanto_char, x_char in esperanto_to_x.items():\n",
    "        text = text.replace(esperanto_char, x_char)\n",
    "    converted_text = text\n",
    "\n",
    "##小文字に変換しておく (変換コード上では小文字、X形式で統一)\n",
    "converted_text=converted_text.lower()\n",
    "    \n",
    "# 将结果写入新的文本文件。(結果を新しいテキストファイルに書き出します。)\n",
    "with open('tmp2.txt', 'w', encoding='utf-8') as file:\n",
    "    file.write(converted_text)"
   ]
  },
  {
   "cell_type": "code",
   "execution_count": 4,
   "id": "166c5383",
   "metadata": {},
   "outputs": [],
   "source": [
    "# 设置包含世界语单词和意义的输入文本文件路径。(エスペラントの単語と意味が書かれたテキストファイルのパスを設定します。)\n",
    "input_file = \"tmp2.txt\"\n",
    "\n",
    "# 创建一个空集合来保存词根。 (語根を保存するための空の集合を作成します。)\n",
    "roots = set()\n",
    "\n",
    "with open(input_file, 'r', encoding='utf-8') as file:\n",
    "    # 遍历每一行。 (各行をループします。)\n",
    "    for line in file:\n",
    "        # 提取\":\"之前的部分。(\":\"が出てくるまでの部分を取り出します。)\n",
    "        word = line.split(\":\")[0]\n",
    "        # 将提取的部分用\"/\"分割。(取り出した部分を\"/\"で分けます。)\n",
    "        parts = word.split(\"/\")\n",
    "        # # 将每个子部分作为词根添加到集合中。(各部分をループします。)\n",
    "        for part in parts:\n",
    "            # 部分を\"-\"と\" \"でさらに分割します。\n",
    "            subparts = re.split('-| ', part)\n",
    "            # 各サブパートを語根として追加します。\n",
    "            for subpart in subparts:\n",
    "                x=subpart.strip()\n",
    "                if len(x)>=1:#长度小于等于2的词根实在是不必要 (長さが2以下の語根は流石に不要)\n",
    "                    roots.add(x)\n",
    "\n",
    "##去除重复 在转换为X格式后进行,否则会出现重复?  (重複を削除　X形式に変換したあとでないと、重複が生じてしまう？)\n",
    "unique_list = list(set(roots))\n",
    "\n",
    "# 按词根长度的倒序(从长到短)对词根进行排序。  (語根を文字数順の逆に(文字数の多いものから順に)並び替えます。)\n",
    "# 对于相同长度的词根,按字母顺序排序。 (同じ文字数の語根についてはアルファベット順に並び替えます。)\n",
    "sorted_roots = sorted(unique_list, key=lambda root: (-len(root), root))\n",
    "\n",
    "# 将结果写入新的文本文件。 (結果を新しいテキストファイルに書き出します。)\n",
    "with open('世界语所有词根_大约11360个.txt', 'w', encoding='utf-8') as file:\n",
    "    for root in sorted_roots:\n",
    "        file.write(root + \"\\n\")"
   ]
  },
  {
   "cell_type": "code",
   "execution_count": 5,
   "id": "67e58b71",
   "metadata": {},
   "outputs": [
    {
     "name": "stdout",
     "output_type": "stream",
     "text": [
      "没有重复行\n"
     ]
    }
   ],
   "source": [
    "##检查是否成功 (うまくいったかをチェック)\n",
    "###确认是否有重复行 (重複した行がないかを確認)\n",
    "def check_duplicate_lines(file_path):\n",
    "    unique_lines = set()\n",
    "    duplicate_lines = set()\n",
    "\n",
    "    with open(file_path, 'r') as file:\n",
    "        for line in file:\n",
    "            if line in unique_lines:\n",
    "                duplicate_lines.add(line)\n",
    "            else:\n",
    "                unique_lines.add(line)\n",
    "\n",
    "    return duplicate_lines\n",
    "\n",
    "#  指定文本文件路径并检测重复行  (テキストファイルのパスを指定して重複行を検出)\n",
    "file_path = '世界语所有词根_大约11360个.txt'  # 请替换为实际的文件路径  (実際のファイルパスに置き換えてください)\n",
    "duplicates = check_duplicate_lines(file_path)\n",
    "\n",
    "if duplicates:\n",
    "    print('存在重复行:')\n",
    "    for line in duplicates:\n",
    "        print(line)\n",
    "else:\n",
    "    print('没有重复行')\n"
   ]
  },
  {
   "cell_type": "code",
   "execution_count": null,
   "id": "2af786cd",
   "metadata": {},
   "outputs": [],
   "source": []
  }
 ],
 "metadata": {
  "kernelspec": {
   "display_name": "Python 3",
   "language": "python",
   "name": "python3"
  },
  "language_info": {
   "codemirror_mode": {
    "name": "ipython",
    "version": 3
   },
   "file_extension": ".py",
   "mimetype": "text/x-python",
   "name": "python",
   "nbconvert_exporter": "python",
   "pygments_lexer": "ipython3",
   "version": "3.8.18"
  }
 },
 "nbformat": 4,
 "nbformat_minor": 5
}
